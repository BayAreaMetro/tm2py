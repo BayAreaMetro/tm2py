{
 "cells": [
  {
   "cell_type": "code",
   "execution_count": 1,
   "metadata": {},
   "outputs": [],
   "source": [
    "from tm2py.acceptance.acceptance import Acceptance\n",
    "from tm2py.acceptance.canonical import Canonical\n",
    "from tm2py.acceptance.simulated import Simulated\n",
    "from tm2py.acceptance.observed import Observed\n",
    "\n",
    "from pathlib import Path\n",
    "import itertools\n",
    "import numpy as np\n",
    "import pandas as pd\n",
    "import geopandas as gpd\n",
    "import os\n",
    "import openmatrix as omx"
   ]
  },
  {
   "cell_type": "code",
   "execution_count": 2,
   "metadata": {},
   "outputs": [],
   "source": [
    "scenario_config_file = \"../examples/scenario_config.toml\"\n",
    "model_config_file = \"../examples/model_config.toml\"\n",
    "observed_config_file = \"../examples/observed_data.toml\"\n",
    "canonical_crosswalk_file = \"../examples/canonical_crosswalk.toml\"\n",
    "\n",
    "output_folder_root = \"/Users/wsp/Documents/GitHub/tm2py/examples/temp_acceptance/\""
   ]
  },
  {
   "cell_type": "code",
   "execution_count": 3,
   "metadata": {},
   "outputs": [],
   "source": [
    "c = Canonical(canonical_crosswalk_file)"
   ]
  },
  {
   "cell_type": "code",
   "execution_count": null,
   "metadata": {},
   "outputs": [],
   "source": [
    "s = Simulated(canonical=c, scenario_file=scenario_config_file, model_file=model_config_file)"
   ]
  },
  {
   "cell_type": "code",
   "execution_count": null,
   "metadata": {},
   "outputs": [],
   "source": [
    "o = Observed(canonical=c, observed_file=observed_config_file)"
   ]
  },
  {
   "cell_type": "code",
   "execution_count": null,
   "metadata": {},
   "outputs": [],
   "source": [
    "a = Acceptance(canonical=c, simulated=s, observed=o, output_file_root=output_folder_root)"
   ]
  },
  {
   "cell_type": "code",
   "execution_count": null,
   "metadata": {},
   "outputs": [],
   "source": [
    "a.make_acceptance(make_transit=False, make_roadway=False, make_other=False)"
   ]
  },
  {
   "cell_type": "code",
   "execution_count": null,
   "metadata": {},
   "outputs": [],
   "source": [
    "# assess successful and failed matches\n",
    "self = a\n",
    "df = self.c.standard_transit_to_survey_df.copy()\n",
    "\n",
    "df[\"survey_agency\"] = df[\"survey_agency\"].map(self.c.canonical_agency_names_dict)\n",
    "df = df[~df[\"survey_agency\"].isin(self.c.rail_operators_vector)].copy()\n",
    "\n",
    "df = c.aggregate_line_names_across_time_of_day(df.copy(), \"standard_line_name\")\n",
    "\n",
    "survey_df = df[[\"survey_route\", \"survey_agency\", \"survey_tech\", \"canonical_operator\", \"daily_line_name\"]].drop_duplicates().reset_index(drop=True).copy()\n",
    "\n",
    "survey_df.head()\n"
   ]
  },
  {
   "cell_type": "code",
   "execution_count": null,
   "metadata": {},
   "outputs": [],
   "source": [
    "sim_df = self.s.simulated_boardings_df[[\"daily_line_name\", \"total_boarding\"]].copy()\n",
    "sim_df.head()"
   ]
  },
  {
   "cell_type": "code",
   "execution_count": null,
   "metadata": {},
   "outputs": [],
   "source": [
    "output_df = pd.merge(\n",
    "    sim_df,\n",
    "    survey_df,\n",
    "    how = \"left\",\n",
    "    on = \"daily_line_name\",\n",
    ")\n",
    "\n",
    "output_df.head()"
   ]
  },
  {
   "cell_type": "code",
   "execution_count": null,
   "metadata": {},
   "outputs": [],
   "source": [
    "routes_df = self.s.standard_transit_routes_df.copy()\n",
    "routes_df = routes_df[[\"agency_id\", \"route_short_name\", \"route_long_name\", \"route_id\"]].copy()\n",
    "routes_df.head()"
   ]
  },
  {
   "cell_type": "code",
   "execution_count": null,
   "metadata": {},
   "outputs": [],
   "source": [
    "self.s.simulated_boardings_df.head()"
   ]
  },
  {
   "cell_type": "code",
   "execution_count": null,
   "metadata": {},
   "outputs": [],
   "source": []
  }
 ],
 "metadata": {
  "kernelspec": {
   "display_name": "tm2py",
   "language": "python",
   "name": "python3"
  },
  "language_info": {
   "codemirror_mode": {
    "name": "ipython",
    "version": 3
   },
   "file_extension": ".py",
   "mimetype": "text/x-python",
   "name": "python",
   "nbconvert_exporter": "python",
   "pygments_lexer": "ipython3",
   "version": "3.7.10"
  },
  "orig_nbformat": 4,
  "vscode": {
   "interpreter": {
    "hash": "2d91b16c68e5ede978700e27bb276105709b93b01d2a83cd6e505c638cda88c9"
   }
  }
 },
 "nbformat": 4,
 "nbformat_minor": 2
}
