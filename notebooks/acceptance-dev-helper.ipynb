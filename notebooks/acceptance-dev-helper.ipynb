{
 "cells": [
  {
   "cell_type": "code",
   "execution_count": 1,
   "metadata": {},
   "outputs": [],
   "source": [
    "from tm2py.acceptance import Acceptance\n",
    "import numpy as np\n",
    "import pandas as pd\n",
    "import os"
   ]
  },
  {
   "cell_type": "code",
   "execution_count": 2,
   "metadata": {},
   "outputs": [],
   "source": [
    "scenario_config_file = \"../examples/scenario_config.toml\"\n",
    "model_config_file = \"../examples/model_config.toml\"\n",
    "observed_config_file = \"../examples/observed_data.toml\""
   ]
  },
  {
   "cell_type": "code",
   "execution_count": 4,
   "metadata": {},
   "outputs": [],
   "source": [
    "a = Acceptance(scenario_config_file, model_config_file, observed_config_file)"
   ]
  },
  {
   "cell_type": "code",
   "execution_count": 7,
   "metadata": {},
   "outputs": [
    {
     "data": {
      "text/plain": [
       "False"
      ]
     },
     "execution_count": 7,
     "metadata": {},
     "output_type": "execute_result"
    }
   ],
   "source": [
    "a.reduced_transit_on_board_df.empty"
   ]
  },
  {
   "cell_type": "code",
   "execution_count": 8,
   "metadata": {},
   "outputs": [],
   "source": [
    "a.reduce_on_board_survey()"
   ]
  },
  {
   "cell_type": "code",
   "execution_count": null,
   "metadata": {},
   "outputs": [],
   "source": [
    "a.make_acceptance()"
   ]
  },
  {
   "cell_type": "code",
   "execution_count": 9,
   "metadata": {},
   "outputs": [
    {
     "data": {
      "text/html": [
       "<div>\n",
       "<style scoped>\n",
       "    .dataframe tbody tr th:only-of-type {\n",
       "        vertical-align: middle;\n",
       "    }\n",
       "\n",
       "    .dataframe tbody tr th {\n",
       "        vertical-align: top;\n",
       "    }\n",
       "\n",
       "    .dataframe thead th {\n",
       "        text-align: right;\n",
       "    }\n",
       "</style>\n",
       "<table border=\"1\" class=\"dataframe\">\n",
       "  <thead>\n",
       "    <tr style=\"text-align: right;\">\n",
       "      <th></th>\n",
       "      <th>survey_tech</th>\n",
       "      <th>operator</th>\n",
       "      <th>route</th>\n",
       "      <th>time_period</th>\n",
       "      <th>weight</th>\n",
       "    </tr>\n",
       "  </thead>\n",
       "  <tbody>\n",
       "    <tr>\n",
       "      <th>0</th>\n",
       "      <td>commuter rail</td>\n",
       "      <td>ACE</td>\n",
       "      <td>ACE</td>\n",
       "      <td>am</td>\n",
       "      <td>2203.846200</td>\n",
       "    </tr>\n",
       "    <tr>\n",
       "      <th>1</th>\n",
       "      <td>commuter rail</td>\n",
       "      <td>ACE</td>\n",
       "      <td>ACE</td>\n",
       "      <td>pm</td>\n",
       "      <td>1947.154100</td>\n",
       "    </tr>\n",
       "    <tr>\n",
       "      <th>2</th>\n",
       "      <td>commuter rail</td>\n",
       "      <td>Caltrain</td>\n",
       "      <td>22nd Street Belmont</td>\n",
       "      <td>am</td>\n",
       "      <td>3.995596</td>\n",
       "    </tr>\n",
       "    <tr>\n",
       "      <th>3</th>\n",
       "      <td>commuter rail</td>\n",
       "      <td>Caltrain</td>\n",
       "      <td>22nd Street Burlingame</td>\n",
       "      <td>ev</td>\n",
       "      <td>8.905245</td>\n",
       "    </tr>\n",
       "    <tr>\n",
       "      <th>4</th>\n",
       "      <td>commuter rail</td>\n",
       "      <td>Caltrain</td>\n",
       "      <td>22nd Street Burlingame</td>\n",
       "      <td>md</td>\n",
       "      <td>2.893553</td>\n",
       "    </tr>\n",
       "  </tbody>\n",
       "</table>\n",
       "</div>"
      ],
      "text/plain": [
       "     survey_tech  operator                   route time_period       weight\n",
       "0  commuter rail       ACE                     ACE          am  2203.846200\n",
       "1  commuter rail       ACE                     ACE          pm  1947.154100\n",
       "2  commuter rail  Caltrain     22nd Street Belmont          am     3.995596\n",
       "3  commuter rail  Caltrain  22nd Street Burlingame          ev     8.905245\n",
       "4  commuter rail  Caltrain  22nd Street Burlingame          md     2.893553"
      ]
     },
     "execution_count": 9,
     "metadata": {},
     "output_type": "execute_result"
    }
   ],
   "source": [
    "a.reduced_transit_on_board_df.head()"
   ]
  },
  {
   "cell_type": "code",
   "execution_count": 18,
   "metadata": {},
   "outputs": [
    {
     "data": {
      "text/plain": [
       "pm    2566\n",
       "am    2553\n",
       "md    2164\n",
       "ev    1811\n",
       "ea     802\n",
       "Name: time_period, dtype: int64"
      ]
     },
     "execution_count": 18,
     "metadata": {},
     "output_type": "execute_result"
    }
   ],
   "source": [
    "donkey = a.reduced_transit_on_board_df[\"time_period\"].value_counts()\n",
    "donkey"
   ]
  },
  {
   "cell_type": "code",
   "execution_count": null,
   "metadata": {},
   "outputs": [],
   "source": []
  }
 ],
 "metadata": {
  "kernelspec": {
   "display_name": "tm2py",
   "language": "python",
   "name": "python3"
  },
  "language_info": {
   "codemirror_mode": {
    "name": "ipython",
    "version": 3
   },
   "file_extension": ".py",
   "mimetype": "text/x-python",
   "name": "python",
   "nbconvert_exporter": "python",
   "pygments_lexer": "ipython3",
   "version": "3.7.10"
  },
  "orig_nbformat": 4,
  "vscode": {
   "interpreter": {
    "hash": "2d91b16c68e5ede978700e27bb276105709b93b01d2a83cd6e505c638cda88c9"
   }
  }
 },
 "nbformat": 4,
 "nbformat_minor": 2
}
