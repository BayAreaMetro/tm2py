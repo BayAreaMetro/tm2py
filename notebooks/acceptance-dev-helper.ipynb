{
 "cells": [
  {
   "cell_type": "code",
   "execution_count": 1,
   "metadata": {},
   "outputs": [],
   "source": [
    "from tm2py.acceptance import Acceptance\n",
    "import numpy as np\n",
    "import pandas as pd\n",
    "import geopandas as gpd\n",
    "import os"
   ]
  },
  {
   "cell_type": "code",
   "execution_count": 2,
   "metadata": {},
   "outputs": [],
   "source": [
    "scenario_config_file = \"../examples/scenario_config.toml\"\n",
    "model_config_file = \"../examples/model_config.toml\"\n",
    "observed_config_file = \"../examples/observed_data.toml\""
   ]
  },
  {
   "cell_type": "code",
   "execution_count": 3,
   "metadata": {},
   "outputs": [],
   "source": [
    "a = Acceptance(scenario_config_file, model_config_file, observed_config_file)"
   ]
  },
  {
   "cell_type": "code",
   "execution_count": 4,
   "metadata": {},
   "outputs": [],
   "source": [
    "a.make_acceptance(make_transit=False, make_roadway=False, make_other=True)"
   ]
  },
  {
   "cell_type": "code",
   "execution_count": null,
   "metadata": {},
   "outputs": [],
   "source": [
    "# start here, put the above code in a method\n",
    "# then do the comparison and stick in other\n",
    "# get tableau going"
   ]
  },
  {
   "cell_type": "code",
   "execution_count": null,
   "metadata": {},
   "outputs": [],
   "source": [
    "self = a\n",
    "a_df = self._make_home_work_flow_comparisons()\n",
    "b_gdf = self._make_zero_vehicle_household_comparisons()\n",
    "\n",
    "gdf = gpd.GeoDataFrame(pd.concat([a_df, b_gdf]), geometry=\"geometry\")"
   ]
  },
  {
   "cell_type": "code",
   "execution_count": null,
   "metadata": {},
   "outputs": [],
   "source": [
    "a_df.head()"
   ]
  },
  {
   "cell_type": "code",
   "execution_count": null,
   "metadata": {},
   "outputs": [],
   "source": [
    "b_gdf.head()"
   ]
  },
  {
   "cell_type": "code",
   "execution_count": null,
   "metadata": {},
   "outputs": [],
   "source": [
    "b_gdf.dtypes"
   ]
  },
  {
   "cell_type": "code",
   "execution_count": null,
   "metadata": {},
   "outputs": [],
   "source": [
    "self = a\n",
    "a_df = pd.merge(\n",
    "    self.simulated_zero_vehicle_hhs_df,\n",
    "    self.simulated_maz_data_df[[\"MAZ_ORIGINAL\", \"MAZSEQ\"]],\n",
    "    left_on=\"maz\",\n",
    "    right_on=\"MAZSEQ\",\n",
    "    how=\"left\",\n",
    ").drop(columns=[\"maz\", \"MAZSEQ\"]).rename(columns={\"MAZ_ORIGINAL\": \"maz\"})\n",
    "\n",
    "a_df = pd.merge(\n",
    "    a_df,\n",
    "    self.census_2010_to_maz_crosswalk_df,\n",
    "    how=\"left\",\n",
    "    on=\"maz\",\n",
    ")\n",
    "\n",
    "a_df[\"product\"] = a_df[\"simulated_zero_vehicle_share\"] * a_df[\"maz_share\"]\n",
    "\n",
    "b_df = a_df.groupby(\"blockgroup\").agg({\"product\": \"sum\", \"simulated_households\": \"sum\"}).reset_index().rename(columns={\"product\": \"simulated_zero_vehicle_share\"})\n",
    "b_df[\"tract\"] = b_df[\"blockgroup\"].astype(\"str\").str.slice(stop=-1)\n",
    "b_df[\"product\"]= b_df[\"simulated_zero_vehicle_share\"] * b_df[\"simulated_households\"]\n",
    "\n",
    "c_df = b_df.groupby(\"tract\").agg({\"product\": \"sum\", \"simulated_households\": \"sum\"}).reset_index()\n",
    "c_df[\"simulated_zero_vehicle_share\"] = c_df[\"product\"] / c_df[\"simulated_households\"]\n",
    "\n",
    "# prepare the observed data\n",
    "join_df = self.census_2017_zero_vehicle_hhs_df.copy()\n",
    "join_df[\"tract\"] = join_df[\"geoid\"].str.replace(\"1400000US0\", \"\")\n",
    "join_df = join_df[[\"tract\", \"observed_zero_vehicle_household_share\"]].drop_duplicates()\n",
    "\n",
    "df = pd.merge(\n",
    "    c_df[[\"tract\", \"simulated_zero_vehicle_share\"]],\n",
    "    join_df,\n",
    "    how=\"left\",\n",
    "    on=\"tract\",\n",
    ")\n",
    "\n",
    "df = pd.merge(\n",
    "    df, \n",
    "    self.census_tract_centroids_gdf, \n",
    "    how=\"left\", \n",
    "    on=\"tract\"\n",
    ")"
   ]
  },
  {
   "cell_type": "code",
   "execution_count": null,
   "metadata": {},
   "outputs": [],
   "source": [
    "df.head()"
   ]
  },
  {
   "cell_type": "code",
   "execution_count": null,
   "metadata": {},
   "outputs": [],
   "source": [
    "gdf = self.census_tract_centroids_gdf\n",
    "gdf.head()"
   ]
  },
  {
   "cell_type": "code",
   "execution_count": null,
   "metadata": {},
   "outputs": [],
   "source": [
    "k_df = pd.DataFrame(gdf[(gdf[\"tract\"] == \"06001400200\")].copy()).drop(columns=[\"geometry\"])\n",
    "k_df.head()"
   ]
  },
  {
   "cell_type": "code",
   "execution_count": null,
   "metadata": {},
   "outputs": [],
   "source": [
    "k_df.tract.str.slice(start=1).head()"
   ]
  },
  {
   "cell_type": "code",
   "execution_count": null,
   "metadata": {},
   "outputs": [],
   "source": []
  }
 ],
 "metadata": {
  "kernelspec": {
   "display_name": "tm2py",
   "language": "python",
   "name": "python3"
  },
  "language_info": {
   "codemirror_mode": {
    "name": "ipython",
    "version": 3
   },
   "file_extension": ".py",
   "mimetype": "text/x-python",
   "name": "python",
   "nbconvert_exporter": "python",
   "pygments_lexer": "ipython3",
   "version": "3.7.10"
  },
  "orig_nbformat": 4,
  "vscode": {
   "interpreter": {
    "hash": "2d91b16c68e5ede978700e27bb276105709b93b01d2a83cd6e505c638cda88c9"
   }
  }
 },
 "nbformat": 4,
 "nbformat_minor": 2
}
