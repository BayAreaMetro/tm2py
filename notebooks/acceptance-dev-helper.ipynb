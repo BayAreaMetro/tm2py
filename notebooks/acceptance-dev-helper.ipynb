{
 "cells": [
  {
   "cell_type": "code",
   "execution_count": 23,
   "metadata": {},
   "outputs": [],
   "source": [
    "from tm2py.acceptance import Acceptance\n",
    "import numpy as np\n",
    "import pandas as pd\n",
    "import os"
   ]
  },
  {
   "cell_type": "code",
   "execution_count": 24,
   "metadata": {},
   "outputs": [],
   "source": [
    "scenario_config_file = \"../examples/scenario_config.toml\"\n",
    "observed_config_file = \"../examples/observed_data.toml\""
   ]
  },
  {
   "cell_type": "code",
   "execution_count": 25,
   "metadata": {},
   "outputs": [],
   "source": [
    "a = Acceptance(scenario_config_file, observed_config_file)"
   ]
  },
  {
   "cell_type": "code",
   "execution_count": 26,
   "metadata": {},
   "outputs": [],
   "source": [
    "a.make_acceptance()"
   ]
  },
  {
   "cell_type": "code",
   "execution_count": 27,
   "metadata": {},
   "outputs": [
    {
     "ename": "AttributeError",
     "evalue": "'Acceptance' object has no attribute 'reduced_on_board_survey_df'",
     "output_type": "error",
     "traceback": [
      "\u001b[0;31m---------------------------------------------------------------------------\u001b[0m",
      "\u001b[0;31mAttributeError\u001b[0m                            Traceback (most recent call last)",
      "\u001b[0;32m/var/folders/qp/sq840hxs1rs_wtmckrby_mkw0000gn/T/ipykernel_9977/2601696682.py\u001b[0m in \u001b[0;36m<module>\u001b[0;34m\u001b[0m\n\u001b[0;32m----> 1\u001b[0;31m \u001b[0ma\u001b[0m\u001b[0;34m.\u001b[0m\u001b[0mreduced_on_board_survey_df\u001b[0m\u001b[0;34m.\u001b[0m\u001b[0mhead\u001b[0m\u001b[0;34m(\u001b[0m\u001b[0;34m)\u001b[0m\u001b[0;34m\u001b[0m\u001b[0;34m\u001b[0m\u001b[0m\n\u001b[0m",
      "\u001b[0;31mAttributeError\u001b[0m: 'Acceptance' object has no attribute 'reduced_on_board_survey_df'"
     ]
    }
   ],
   "source": [
    "a.reduced_on_board_survey_df.head()"
   ]
  },
  {
   "cell_type": "code",
   "execution_count": null,
   "metadata": {},
   "outputs": [],
   "source": [
    "file_root = a.observed_dict[\"remote_io\"][\"folder_root\"]\n",
    "in_file = a.observed_dict[\"transit\"][\"on_board_survey_file\"]\n",
    "out_file = a.observed_dict[\"transit\"][\"reduced_summaries_file\"]\n",
    "\n",
    "input_filename = os.path.join(file_root, in_file)\n",
    "\n",
    "input_filename"
   ]
  },
  {
   "cell_type": "code",
   "execution_count": null,
   "metadata": {},
   "outputs": [],
   "source": [
    "df = pd.read_feather(input_filename)\n",
    "df.head()"
   ]
  },
  {
   "cell_type": "code",
   "execution_count": null,
   "metadata": {},
   "outputs": [],
   "source": [
    "df.weekpart.value_counts()"
   ]
  },
  {
   "cell_type": "code",
   "execution_count": null,
   "metadata": {},
   "outputs": [],
   "source": [
    "out_df = df.loc[df[\"weekpart\"] == \"WEEKDAY\"]\n",
    "out_df.head()"
   ]
  },
  {
   "cell_type": "code",
   "execution_count": null,
   "metadata": {},
   "outputs": [],
   "source": [
    "out_df = df.loc[df[\"weekpart\"] == \"WEEKDAY\"]\n",
    "out_df = out_df.loc[out_df[\"day_part\"].isin([\"EARLY AM\", \"AM PEAK\", \"MIDDAY\", \"PM PEAK\", \"EVENING\", \"NIGHT\"])]\n",
    "out_df[\"time_period\"] = np.where(out_df[\"day_part\"]==\"EVENING\", \"NIGHT\", out_df[\"day_part\"])\n",
    "out_df = out_df.groupby([\"survey_tech\", \"operator\", \"route\", \"time_period\"])[\"weight\"].sum().reset_index()\n",
    "\n",
    "out_df.head()"
   ]
  },
  {
   "attachments": {},
   "cell_type": "markdown",
   "metadata": {},
   "source": [
    "sum_df <- survey %>%\n",
    "  filter(weekpart == \"WEEKDAY\") %>%\n",
    "  filter(day_part %in% c(\"EARLY AM\", \"AM PEAK\", \"MIDDAY\", \"PM PEAK\", \"EVENING\", \"NIGHT\")) %>%\n",
    "  mutate(time_period = if_else(day_part == \"EVENING\", \"NIGHT\", day_part)) %>%\n",
    "  group_by(survey_tech, operator, route, time_period) %>%\n",
    "  summarise(boardings = sum(weight), .groups = \"drop\")"
   ]
  }
 ],
 "metadata": {
  "kernelspec": {
   "display_name": "tm2py",
   "language": "python",
   "name": "python3"
  },
  "language_info": {
   "codemirror_mode": {
    "name": "ipython",
    "version": 3
   },
   "file_extension": ".py",
   "mimetype": "text/x-python",
   "name": "python",
   "nbconvert_exporter": "python",
   "pygments_lexer": "ipython3",
   "version": "3.7.10"
  },
  "orig_nbformat": 4,
  "vscode": {
   "interpreter": {
    "hash": "2d91b16c68e5ede978700e27bb276105709b93b01d2a83cd6e505c638cda88c9"
   }
  }
 },
 "nbformat": 4,
 "nbformat_minor": 2
}
