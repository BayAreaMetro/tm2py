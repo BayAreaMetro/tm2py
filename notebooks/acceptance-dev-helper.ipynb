{
 "cells": [
  {
   "cell_type": "code",
   "execution_count": 1,
   "metadata": {},
   "outputs": [],
   "source": [
    "from tm2py.acceptance import Acceptance\n",
    "import numpy as np\n",
    "import pandas as pd\n",
    "import geopandas as gpd\n",
    "import os"
   ]
  },
  {
   "cell_type": "code",
   "execution_count": 2,
   "metadata": {},
   "outputs": [],
   "source": [
    "scenario_config_file = \"../examples/scenario_config.toml\"\n",
    "model_config_file = \"../examples/model_config.toml\"\n",
    "observed_config_file = \"../examples/observed_data.toml\""
   ]
  },
  {
   "cell_type": "code",
   "execution_count": 3,
   "metadata": {},
   "outputs": [],
   "source": [
    "a = Acceptance(scenario_config_file, model_config_file, observed_config_file)"
   ]
  },
  {
   "cell_type": "code",
   "execution_count": 4,
   "metadata": {},
   "outputs": [],
   "source": [
    "a.make_acceptance(make_transit=False, make_roadway=False, make_other=True)"
   ]
  }
 ],
 "metadata": {
  "kernelspec": {
   "display_name": "tm2py",
   "language": "python",
   "name": "python3"
  },
  "language_info": {
   "codemirror_mode": {
    "name": "ipython",
    "version": 3
   },
   "file_extension": ".py",
   "mimetype": "text/x-python",
   "name": "python",
   "nbconvert_exporter": "python",
   "pygments_lexer": "ipython3",
   "version": "3.7.10"
  },
  "orig_nbformat": 4,
  "vscode": {
   "interpreter": {
    "hash": "2d91b16c68e5ede978700e27bb276105709b93b01d2a83cd6e505c638cda88c9"
   }
  }
 },
 "nbformat": 4,
 "nbformat_minor": 2
}
