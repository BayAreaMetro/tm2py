{
 "cells": [
  {
   "cell_type": "markdown",
   "metadata": {},
   "source": [
    "## Trim Observed Demand for Congested Assignment\n",
    "Emme's congested assignment procedures fail if you assign demand for which there is no path. Because the observed demand is based on survey data, it is likely a small number of trips observed in the survey data can not be completed in the model network. This notebook uses skims from an extended assignment (not congested, which will not fail if there is no path for the demand) to trim the observed demand so that it can be assigned in the congested assignment without error.\n"
   ]
  },
  {
   "cell_type": "code",
   "execution_count": 86,
   "metadata": {},
   "outputs": [],
   "source": [
    "import numpy as np\n",
    "import pandas as pd\n",
    "import openmatrix as omx\n",
    "import os\n",
    "import math"
   ]
  },
  {
   "cell_type": "markdown",
   "metadata": {},
   "source": [
    "### Remote I/O"
   ]
  },
  {
   "cell_type": "code",
   "execution_count": 87,
   "metadata": {},
   "outputs": [],
   "source": [
    "observed_demand_filename = r\"/Users/wsp/Downloads/observed-demand-year-2015-am-emme-taz-by-path.csv\"\n",
    "skim_dir = \"../examples/temp_acceptance/skims\"\n",
    "total_impedance_skim_filename = \"transit_total_impedance_am.omx\"\n",
    "roadway_skim_filename = \"HWYSKMMD_taz.omx\"\n",
    "output_demand_filename = \"../examples/temp_on_board_assign/observed-demand-year-2015-am-emme-taz-by-path-trimmed.csv\""
   ]
  },
  {
   "cell_type": "markdown",
   "metadata": {},
   "source": [
    "### Parameters"
   ]
  },
  {
   "cell_type": "code",
   "execution_count": 88,
   "metadata": {},
   "outputs": [],
   "source": [
    "MAX_IMPEDANCE = 150.0"
   ]
  },
  {
   "cell_type": "markdown",
   "metadata": {},
   "source": [
    "### Methods"
   ]
  },
  {
   "cell_type": "code",
   "execution_count": 89,
   "metadata": {},
   "outputs": [],
   "source": [
    "def make_dataframe_from_omx(input_mtx: omx, core_name: str):\n",
    "\n",
    "    a = np.array(input_mtx)\n",
    "\n",
    "    df = pd.DataFrame(a)\n",
    "    df = (\n",
    "        df.unstack()\n",
    "        .reset_index()\n",
    "        .rename(\n",
    "            columns={\"level_0\": \"origin\", \"level_1\": \"destination\", 0: core_name}\n",
    "        )\n",
    "    )\n",
    "    df[\"origin\"] = df[\"origin\"] + 1\n",
    "    df[\"destination\"] = df[\"destination\"] + 1\n",
    "\n",
    "    return df"
   ]
  },
  {
   "cell_type": "code",
   "execution_count": 90,
   "metadata": {},
   "outputs": [],
   "source": [
    "def fetch_skim_values(path: str, time_period: str):\n",
    "    filename = os.path.join(skim_dir, \"trnskm{}_{}.omx\".format(time_period.upper(), path))\n",
    "    omx_handle = omx.open_file(filename)\n",
    "\n",
    "    matrix_list = [\"IVT\", \"WAUX\", \"BOARDS\", \"WACC\", \"WEGR\"]\n",
    " \n",
    "    first_matrix = True\n",
    "    for matrix in matrix_list:\n",
    "        matrix_name = time_period + \"_\" + path + \"_\" + matrix\n",
    "        df = make_dataframe_from_omx(omx_handle[matrix_name], matrix_name)\n",
    "        df.columns = [\"origin\", \"destination\", matrix]\n",
    "        if first_matrix:\n",
    "            running_df = df\n",
    "            first_matrix = False\n",
    "        else:\n",
    "            running_df = running_df.merge(df, on=[\"origin\", \"destination\"])\n",
    "\n",
    "    omx_handle.close()\n",
    "    running_df[\"path_type\"] = path.lower()\n",
    "    running_df[\"time_period\"] = time_period.lower()\n",
    "\n",
    "    return running_df"
   ]
  },
  {
   "cell_type": "code",
   "execution_count": 91,
   "metadata": {},
   "outputs": [],
   "source": [
    "def identify_present_paths(input_df: pd.DataFrame, impedance_df: pd.DataFrame):\n",
    "    df = input_df.copy()\n",
    "    df = df.merge(impedance_df, on=[\"origin\", \"destination\", \"path_type\"], how=\"left\").reset_index(drop=True)\n",
    "    df[\"walk_all_the_way_time\"] = np.where(df[\"IVT\"] > 0.01, -99.0, df[\"WAUX\"] + df[\"WACC\"] + df[\"WEGR\"])\n",
    "    df[\"transit_path_found\"] = df[\"IVT\"] > 0.01\n",
    "    df[\"walk_path_found\"] = df[\"walk_all_the_way_time\"] > 0.0\n",
    "    df[\"path_found\"] = ((df[\"total_imped\"] > 0.0) & (df[\"total_imped\"] < MAX_IMPEDANCE))\n",
    "    return df[[\"origin\", \"destination\", \"path_type\", \"time_period\", \"path_found\", \"transit_path_found\", \"walk_path_found\"]].copy()\n",
    "    "
   ]
  },
  {
   "cell_type": "code",
   "execution_count": 92,
   "metadata": {},
   "outputs": [],
   "source": [
    "def flag_path_in_observed(input_observed_df: pd.DataFrame, input_total_imped_df: pd.DataFrame, input_path: str, input_time_period: str):\n",
    "    o_df = input_observed_df.copy()\n",
    "    imp_df = input_total_imped_df.copy()\n",
    "\n",
    "    df = fetch_skim_values(input_path, input_time_period)\n",
    "    a_df = identify_present_paths(df, imp_df)\n",
    "\n",
    "    r_df = pd.merge(\n",
    "        o_df, \n",
    "        a_df, \n",
    "        left_on = [\"model_time\", \"path_type\", \"orig_emme_taz\", \"dest_emme_taz\"], \n",
    "        right_on=[\"time_period\", \"path_type\", \"origin\", \"destination\"], how=\"left\",\n",
    "    ).reset_index(drop=True)\n",
    "    r_df = r_df.drop(columns=[\"origin\", \"destination\", \"time_period\"])\n",
    "    \n",
    "    r_df[\"path_found\"] = r_df[\"path_found\"].fillna(False)\n",
    "    r_df[\"transit_path_found\"] = r_df[\"transit_path_found\"].fillna(False)\n",
    "    r_df[\"walk_path_found\"] = r_df[\"walk_path_found\"].fillna(False)\n",
    "    \n",
    "    r_df = r_df.rename(columns={\n",
    "        \"path_found\": \"path_found_{}\".format(input_path.lower()), \n",
    "        \"transit_path_found\": \"transit_path_found_{}\".format(input_path.lower()), \n",
    "        \"walk_path_found\": \"walk_path_found_{}\".format(input_path.lower()),\n",
    "    })\n",
    "\n",
    "    return r_df\n"
   ]
  },
  {
   "cell_type": "code",
   "execution_count": 93,
   "metadata": {},
   "outputs": [],
   "source": [
    "def weighted_outcomes(values, weights):\n",
    "    average = np.average(values, weights=weights)\n",
    "    variance = np.average((values-average)**2, weights=weights)\n",
    "    out = {\"count\": values.size,\n",
    "           \"trips\": weights.sum(),\n",
    "            \"mean\": average, \n",
    "            \"std\": math.sqrt(variance),\n",
    "            \"min\": min(values),\n",
    "            \"25%\": np.percentile(values, 25),\n",
    "            \"50%\": np.percentile(values, 50),\n",
    "            \"75%\": np.percentile(values, 75),\n",
    "            \"max\": max(values)\n",
    "        }\n",
    "    ser = pd.Series(data=out, index=out.keys())\n",
    "    return ser"
   ]
  },
  {
   "cell_type": "markdown",
   "metadata": {},
   "source": [
    "### Data Reads"
   ]
  },
  {
   "cell_type": "code",
   "execution_count": 94,
   "metadata": {},
   "outputs": [],
   "source": [
    "observed_df = pd.read_csv(observed_demand_filename) "
   ]
  },
  {
   "cell_type": "code",
   "execution_count": 95,
   "metadata": {},
   "outputs": [
    {
     "data": {
      "text/plain": [
       "path_type\n",
       "wlk_trn_wlk    21751\n",
       "pnr_trn_wlk     5981\n",
       "knr_trn_wlk     4515\n",
       "wlk_trn_knr      932\n",
       "wlk_trn_pnr      149\n",
       "dtype: int64"
      ]
     },
     "execution_count": 95,
     "metadata": {},
     "output_type": "execute_result"
    }
   ],
   "source": [
    "observed_df.value_counts(\"path_type\")"
   ]
  },
  {
   "cell_type": "code",
   "execution_count": 96,
   "metadata": {},
   "outputs": [
    {
     "data": {
      "text/plain": [
       "['mf601_AM_WLK_TRN_WLK_TOTALIMP',\n",
       " 'mf602_AM_PNR_TRN_WLK_TOTALIMP',\n",
       " 'mf603_AM_WLK_TRN_PNR_TOTALIMP',\n",
       " 'mf604_AM_KNR_TRN_WLK_TOTALIMP',\n",
       " 'mf605_AM_WLK_TRN_KNR_TOTALIMP']"
      ]
     },
     "execution_count": 96,
     "metadata": {},
     "output_type": "execute_result"
    }
   ],
   "source": [
    "filename = os.path.join(skim_dir, total_impedance_skim_filename)\n",
    "omx_handle = omx.open_file(filename)\n",
    "omx_handle.list_matrices()"
   ]
  },
  {
   "cell_type": "code",
   "execution_count": 97,
   "metadata": {},
   "outputs": [],
   "source": [
    "wtw_df = make_dataframe_from_omx(omx_handle[\"mf601_AM_WLK_TRN_WLK_TOTALIMP\"], \"total_imped\")\n",
    "wtw_df[\"path_type\"] = \"wlk_trn_wlk\"\n",
    "\n",
    "ptw_df = make_dataframe_from_omx(omx_handle[\"mf602_AM_PNR_TRN_WLK_TOTALIMP\"], \"total_imped\")\n",
    "ptw_df[\"path_type\"] = \"pnr_trn_wlk\"\n",
    "\n",
    "ktw_df = make_dataframe_from_omx(omx_handle[\"mf604_AM_KNR_TRN_WLK_TOTALIMP\"], \"total_imped\")\n",
    "ktw_df[\"path_type\"] = \"knr_trn_wlk\"\n",
    "\n",
    "wtp_df = make_dataframe_from_omx(omx_handle[\"mf603_AM_WLK_TRN_PNR_TOTALIMP\"], \"total_imped\")\n",
    "wtp_df[\"path_type\"] = \"wlk_trn_pnr\"\n",
    "\n",
    "wtk_df = make_dataframe_from_omx(omx_handle[\"mf605_AM_WLK_TRN_KNR_TOTALIMP\"], \"total_imped\")\n",
    "wtk_df[\"path_type\"] = \"wlk_trn_knr\"\n",
    "\n",
    "omx_handle.close()\n"
   ]
  },
  {
   "cell_type": "code",
   "execution_count": 98,
   "metadata": {},
   "outputs": [],
   "source": [
    "filename = os.path.join(skim_dir, roadway_skim_filename)\n",
    "omx_handle = omx.open_file(filename)\n",
    "hwy_dist_df = make_dataframe_from_omx(omx_handle[\"MD_da_dist\"], \"roadway_distance\")\n",
    "omx_handle.close()"
   ]
  },
  {
   "cell_type": "code",
   "execution_count": 99,
   "metadata": {},
   "outputs": [
    {
     "data": {
      "text/html": [
       "<div>\n",
       "<style scoped>\n",
       "    .dataframe tbody tr th:only-of-type {\n",
       "        vertical-align: middle;\n",
       "    }\n",
       "\n",
       "    .dataframe tbody tr th {\n",
       "        vertical-align: top;\n",
       "    }\n",
       "\n",
       "    .dataframe thead th {\n",
       "        text-align: right;\n",
       "    }\n",
       "</style>\n",
       "<table border=\"1\" class=\"dataframe\">\n",
       "  <thead>\n",
       "    <tr style=\"text-align: right;\">\n",
       "      <th></th>\n",
       "      <th>model_time</th>\n",
       "      <th>path_type</th>\n",
       "      <th>orig_emme_taz</th>\n",
       "      <th>dest_emme_taz</th>\n",
       "      <th>trips</th>\n",
       "      <th>path_found_wlk_trn_wlk</th>\n",
       "      <th>transit_path_found_wlk_trn_wlk</th>\n",
       "      <th>walk_path_found_wlk_trn_wlk</th>\n",
       "      <th>path_found_pnr_trn_wlk</th>\n",
       "      <th>transit_path_found_pnr_trn_wlk</th>\n",
       "      <th>walk_path_found_pnr_trn_wlk</th>\n",
       "      <th>path_found_knr_trn_wlk</th>\n",
       "      <th>transit_path_found_knr_trn_wlk</th>\n",
       "      <th>walk_path_found_knr_trn_wlk</th>\n",
       "      <th>path_found_wlk_trn_pnr</th>\n",
       "      <th>transit_path_found_wlk_trn_pnr</th>\n",
       "      <th>walk_path_found_wlk_trn_pnr</th>\n",
       "      <th>path_found_wlk_trn_knr</th>\n",
       "      <th>transit_path_found_wlk_trn_knr</th>\n",
       "      <th>walk_path_found_wlk_trn_knr</th>\n",
       "    </tr>\n",
       "  </thead>\n",
       "  <tbody>\n",
       "    <tr>\n",
       "      <th>0</th>\n",
       "      <td>am</td>\n",
       "      <td>knr_trn_wlk</td>\n",
       "      <td>1</td>\n",
       "      <td>2953</td>\n",
       "      <td>12.064273</td>\n",
       "      <td>False</td>\n",
       "      <td>False</td>\n",
       "      <td>False</td>\n",
       "      <td>False</td>\n",
       "      <td>False</td>\n",
       "      <td>False</td>\n",
       "      <td>True</td>\n",
       "      <td>True</td>\n",
       "      <td>False</td>\n",
       "      <td>False</td>\n",
       "      <td>False</td>\n",
       "      <td>False</td>\n",
       "      <td>False</td>\n",
       "      <td>False</td>\n",
       "      <td>False</td>\n",
       "    </tr>\n",
       "    <tr>\n",
       "      <th>1</th>\n",
       "      <td>am</td>\n",
       "      <td>knr_trn_wlk</td>\n",
       "      <td>2</td>\n",
       "      <td>1055</td>\n",
       "      <td>5.721250</td>\n",
       "      <td>False</td>\n",
       "      <td>False</td>\n",
       "      <td>False</td>\n",
       "      <td>False</td>\n",
       "      <td>False</td>\n",
       "      <td>False</td>\n",
       "      <td>True</td>\n",
       "      <td>True</td>\n",
       "      <td>False</td>\n",
       "      <td>False</td>\n",
       "      <td>False</td>\n",
       "      <td>False</td>\n",
       "      <td>False</td>\n",
       "      <td>False</td>\n",
       "      <td>False</td>\n",
       "    </tr>\n",
       "    <tr>\n",
       "      <th>2</th>\n",
       "      <td>am</td>\n",
       "      <td>knr_trn_wlk</td>\n",
       "      <td>3</td>\n",
       "      <td>2592</td>\n",
       "      <td>1.040014</td>\n",
       "      <td>False</td>\n",
       "      <td>False</td>\n",
       "      <td>False</td>\n",
       "      <td>False</td>\n",
       "      <td>False</td>\n",
       "      <td>False</td>\n",
       "      <td>True</td>\n",
       "      <td>True</td>\n",
       "      <td>False</td>\n",
       "      <td>False</td>\n",
       "      <td>False</td>\n",
       "      <td>False</td>\n",
       "      <td>False</td>\n",
       "      <td>False</td>\n",
       "      <td>False</td>\n",
       "    </tr>\n",
       "    <tr>\n",
       "      <th>3</th>\n",
       "      <td>am</td>\n",
       "      <td>knr_trn_wlk</td>\n",
       "      <td>5</td>\n",
       "      <td>2178</td>\n",
       "      <td>4.855805</td>\n",
       "      <td>False</td>\n",
       "      <td>False</td>\n",
       "      <td>False</td>\n",
       "      <td>False</td>\n",
       "      <td>False</td>\n",
       "      <td>False</td>\n",
       "      <td>True</td>\n",
       "      <td>True</td>\n",
       "      <td>False</td>\n",
       "      <td>False</td>\n",
       "      <td>False</td>\n",
       "      <td>False</td>\n",
       "      <td>False</td>\n",
       "      <td>False</td>\n",
       "      <td>False</td>\n",
       "    </tr>\n",
       "    <tr>\n",
       "      <th>4</th>\n",
       "      <td>am</td>\n",
       "      <td>knr_trn_wlk</td>\n",
       "      <td>7</td>\n",
       "      <td>398</td>\n",
       "      <td>20.209921</td>\n",
       "      <td>False</td>\n",
       "      <td>False</td>\n",
       "      <td>False</td>\n",
       "      <td>False</td>\n",
       "      <td>False</td>\n",
       "      <td>False</td>\n",
       "      <td>True</td>\n",
       "      <td>True</td>\n",
       "      <td>False</td>\n",
       "      <td>False</td>\n",
       "      <td>False</td>\n",
       "      <td>False</td>\n",
       "      <td>False</td>\n",
       "      <td>False</td>\n",
       "      <td>False</td>\n",
       "    </tr>\n",
       "  </tbody>\n",
       "</table>\n",
       "</div>"
      ],
      "text/plain": [
       "  model_time    path_type  orig_emme_taz  dest_emme_taz      trips  \\\n",
       "0         am  knr_trn_wlk              1           2953  12.064273   \n",
       "1         am  knr_trn_wlk              2           1055   5.721250   \n",
       "2         am  knr_trn_wlk              3           2592   1.040014   \n",
       "3         am  knr_trn_wlk              5           2178   4.855805   \n",
       "4         am  knr_trn_wlk              7            398  20.209921   \n",
       "\n",
       "   path_found_wlk_trn_wlk  transit_path_found_wlk_trn_wlk  \\\n",
       "0                   False                           False   \n",
       "1                   False                           False   \n",
       "2                   False                           False   \n",
       "3                   False                           False   \n",
       "4                   False                           False   \n",
       "\n",
       "   walk_path_found_wlk_trn_wlk  path_found_pnr_trn_wlk  \\\n",
       "0                        False                   False   \n",
       "1                        False                   False   \n",
       "2                        False                   False   \n",
       "3                        False                   False   \n",
       "4                        False                   False   \n",
       "\n",
       "   transit_path_found_pnr_trn_wlk  walk_path_found_pnr_trn_wlk  \\\n",
       "0                           False                        False   \n",
       "1                           False                        False   \n",
       "2                           False                        False   \n",
       "3                           False                        False   \n",
       "4                           False                        False   \n",
       "\n",
       "   path_found_knr_trn_wlk  transit_path_found_knr_trn_wlk  \\\n",
       "0                    True                            True   \n",
       "1                    True                            True   \n",
       "2                    True                            True   \n",
       "3                    True                            True   \n",
       "4                    True                            True   \n",
       "\n",
       "   walk_path_found_knr_trn_wlk  path_found_wlk_trn_pnr  \\\n",
       "0                        False                   False   \n",
       "1                        False                   False   \n",
       "2                        False                   False   \n",
       "3                        False                   False   \n",
       "4                        False                   False   \n",
       "\n",
       "   transit_path_found_wlk_trn_pnr  walk_path_found_wlk_trn_pnr  \\\n",
       "0                           False                        False   \n",
       "1                           False                        False   \n",
       "2                           False                        False   \n",
       "3                           False                        False   \n",
       "4                           False                        False   \n",
       "\n",
       "   path_found_wlk_trn_knr  transit_path_found_wlk_trn_knr  \\\n",
       "0                   False                           False   \n",
       "1                   False                           False   \n",
       "2                   False                           False   \n",
       "3                   False                           False   \n",
       "4                   False                           False   \n",
       "\n",
       "   walk_path_found_wlk_trn_knr  \n",
       "0                        False  \n",
       "1                        False  \n",
       "2                        False  \n",
       "3                        False  \n",
       "4                        False  "
      ]
     },
     "execution_count": 99,
     "metadata": {},
     "output_type": "execute_result"
    }
   ],
   "source": [
    "running_observed_df = flag_path_in_observed(observed_df, wtw_df, \"WLK_TRN_WLK\", \"AM\")\n",
    "running_observed_df = flag_path_in_observed(running_observed_df, ptw_df, \"PNR_TRN_WLK\", \"AM\")\n",
    "running_observed_df = flag_path_in_observed(running_observed_df, ktw_df, \"KNR_TRN_WLK\", \"AM\")\n",
    "running_observed_df = flag_path_in_observed(running_observed_df, wtp_df, \"WLK_TRN_PNR\", \"AM\")\n",
    "running_observed_df = flag_path_in_observed(running_observed_df, wtk_df, \"WLK_TRN_KNR\", \"AM\")\n",
    "running_observed_df.head()"
   ]
  },
  {
   "cell_type": "markdown",
   "metadata": {},
   "source": [
    "### Reductions"
   ]
  },
  {
   "cell_type": "code",
   "execution_count": 100,
   "metadata": {},
   "outputs": [
    {
     "data": {
      "text/plain": [
       "path_present\n",
       "True     26599\n",
       "False     6729\n",
       "dtype: int64"
      ]
     },
     "execution_count": 100,
     "metadata": {},
     "output_type": "execute_result"
    }
   ],
   "source": [
    "output_df = running_observed_df.copy() \n",
    "output_df[\"path_present\"] = output_df[\"path_found_wlk_trn_wlk\"] | output_df[\"path_found_pnr_trn_wlk\"] | output_df[\"path_found_knr_trn_wlk\"] | output_df[\"path_found_wlk_trn_pnr\"] | output_df[\"path_found_wlk_trn_knr\"]\n",
    "output_df[\"transit_path_present\"] = output_df[\"transit_path_found_wlk_trn_wlk\"] | output_df[\"transit_path_found_pnr_trn_wlk\"] | output_df[\"transit_path_found_knr_trn_wlk\"] | output_df[\"transit_path_found_wlk_trn_pnr\"] | output_df[\"transit_path_found_wlk_trn_knr\"]\n",
    "output_df[\"walk_path_present\"] = output_df[\"walk_path_found_wlk_trn_wlk\"] | output_df[\"walk_path_found_pnr_trn_wlk\"] | output_df[\"walk_path_found_knr_trn_wlk\"] | output_df[\"walk_path_found_wlk_trn_pnr\"] | output_df[\"walk_path_found_wlk_trn_knr\"]\n",
    "output_df.value_counts(\"path_present\")  "
   ]
  },
  {
   "cell_type": "code",
   "execution_count": 101,
   "metadata": {},
   "outputs": [],
   "source": [
    "write_df = output_df[output_df[\"path_present\"] == True].copy().reset_index(drop=True)\n",
    "write_df = write_df[[\"model_time\", \"path_type\", \"orig_emme_taz\", \"dest_emme_taz\", \"trips\"]]"
   ]
  },
  {
   "cell_type": "code",
   "execution_count": 102,
   "metadata": {},
   "outputs": [
    {
     "data": {
      "text/plain": [
       "0.8546194055651156"
      ]
     },
     "execution_count": 102,
     "metadata": {},
     "output_type": "execute_result"
    }
   ],
   "source": [
    "sum(write_df[\"trips\"])/sum(output_df[\"trips\"])"
   ]
  },
  {
   "cell_type": "code",
   "execution_count": 103,
   "metadata": {},
   "outputs": [
    {
     "data": {
      "text/plain": [
       "315848.4381569526"
      ]
     },
     "execution_count": 103,
     "metadata": {},
     "output_type": "execute_result"
    }
   ],
   "source": [
    "sum(write_df[\"trips\"])"
   ]
  },
  {
   "cell_type": "code",
   "execution_count": 104,
   "metadata": {},
   "outputs": [],
   "source": [
    "write_df.to_csv(output_demand_filename, index=False)"
   ]
  },
  {
   "cell_type": "markdown",
   "metadata": {},
   "source": [
    "### Count Transit and Walk-all-the-way Paths"
   ]
  },
  {
   "cell_type": "code",
   "execution_count": 105,
   "metadata": {},
   "outputs": [
    {
     "data": {
      "text/html": [
       "<div>\n",
       "<style scoped>\n",
       "    .dataframe tbody tr th:only-of-type {\n",
       "        vertical-align: middle;\n",
       "    }\n",
       "\n",
       "    .dataframe tbody tr th {\n",
       "        vertical-align: top;\n",
       "    }\n",
       "\n",
       "    .dataframe thead th {\n",
       "        text-align: right;\n",
       "    }\n",
       "</style>\n",
       "<table border=\"1\" class=\"dataframe\">\n",
       "  <thead>\n",
       "    <tr style=\"text-align: right;\">\n",
       "      <th></th>\n",
       "      <th>model_time</th>\n",
       "      <th>path_type</th>\n",
       "      <th>orig_emme_taz</th>\n",
       "      <th>dest_emme_taz</th>\n",
       "      <th>path_present</th>\n",
       "      <th>transit_path_present</th>\n",
       "      <th>walk_path_present</th>\n",
       "      <th>trips</th>\n",
       "      <th>transit_trips</th>\n",
       "      <th>walk_trips</th>\n",
       "      <th>roadway_distance</th>\n",
       "    </tr>\n",
       "  </thead>\n",
       "  <tbody>\n",
       "    <tr>\n",
       "      <th>0</th>\n",
       "      <td>am</td>\n",
       "      <td>knr_trn_wlk</td>\n",
       "      <td>1</td>\n",
       "      <td>2953</td>\n",
       "      <td>True</td>\n",
       "      <td>True</td>\n",
       "      <td>False</td>\n",
       "      <td>12.064273</td>\n",
       "      <td>12.064273</td>\n",
       "      <td>0.0</td>\n",
       "      <td>11.509501</td>\n",
       "    </tr>\n",
       "    <tr>\n",
       "      <th>1</th>\n",
       "      <td>am</td>\n",
       "      <td>knr_trn_wlk</td>\n",
       "      <td>2</td>\n",
       "      <td>1055</td>\n",
       "      <td>True</td>\n",
       "      <td>True</td>\n",
       "      <td>False</td>\n",
       "      <td>5.721250</td>\n",
       "      <td>5.721250</td>\n",
       "      <td>0.0</td>\n",
       "      <td>12.797618</td>\n",
       "    </tr>\n",
       "    <tr>\n",
       "      <th>2</th>\n",
       "      <td>am</td>\n",
       "      <td>knr_trn_wlk</td>\n",
       "      <td>3</td>\n",
       "      <td>2592</td>\n",
       "      <td>True</td>\n",
       "      <td>True</td>\n",
       "      <td>False</td>\n",
       "      <td>1.040014</td>\n",
       "      <td>1.040014</td>\n",
       "      <td>0.0</td>\n",
       "      <td>31.540909</td>\n",
       "    </tr>\n",
       "    <tr>\n",
       "      <th>3</th>\n",
       "      <td>am</td>\n",
       "      <td>knr_trn_wlk</td>\n",
       "      <td>5</td>\n",
       "      <td>2178</td>\n",
       "      <td>True</td>\n",
       "      <td>True</td>\n",
       "      <td>False</td>\n",
       "      <td>4.855805</td>\n",
       "      <td>4.855805</td>\n",
       "      <td>0.0</td>\n",
       "      <td>12.229300</td>\n",
       "    </tr>\n",
       "    <tr>\n",
       "      <th>4</th>\n",
       "      <td>am</td>\n",
       "      <td>knr_trn_wlk</td>\n",
       "      <td>7</td>\n",
       "      <td>398</td>\n",
       "      <td>True</td>\n",
       "      <td>True</td>\n",
       "      <td>False</td>\n",
       "      <td>20.209921</td>\n",
       "      <td>20.209921</td>\n",
       "      <td>0.0</td>\n",
       "      <td>3.452892</td>\n",
       "    </tr>\n",
       "  </tbody>\n",
       "</table>\n",
       "</div>"
      ],
      "text/plain": [
       "  model_time    path_type  orig_emme_taz  dest_emme_taz  path_present  \\\n",
       "0         am  knr_trn_wlk              1           2953          True   \n",
       "1         am  knr_trn_wlk              2           1055          True   \n",
       "2         am  knr_trn_wlk              3           2592          True   \n",
       "3         am  knr_trn_wlk              5           2178          True   \n",
       "4         am  knr_trn_wlk              7            398          True   \n",
       "\n",
       "   transit_path_present  walk_path_present      trips  transit_trips  \\\n",
       "0                  True              False  12.064273      12.064273   \n",
       "1                  True              False   5.721250       5.721250   \n",
       "2                  True              False   1.040014       1.040014   \n",
       "3                  True              False   4.855805       4.855805   \n",
       "4                  True              False  20.209921      20.209921   \n",
       "\n",
       "   walk_trips  roadway_distance  \n",
       "0         0.0         11.509501  \n",
       "1         0.0         12.797618  \n",
       "2         0.0         31.540909  \n",
       "3         0.0         12.229300  \n",
       "4         0.0          3.452892  "
      ]
     },
     "execution_count": 105,
     "metadata": {},
     "output_type": "execute_result"
    }
   ],
   "source": [
    "path_type_df = output_df[output_df[\"path_present\"] == True].copy().reset_index(drop=True)\n",
    "path_type_df = path_type_df[[\"model_time\", \"path_type\", \"orig_emme_taz\", \"dest_emme_taz\", \"path_present\", \"transit_path_present\", \"walk_path_present\", \"trips\"]]\n",
    "path_type_df[\"transit_trips\"] = path_type_df[\"transit_path_present\"] * path_type_df[\"trips\"]\n",
    "path_type_df[\"walk_trips\"] = path_type_df[\"walk_path_present\"] * path_type_df[\"trips\"]\n",
    "path_type_df = pd.merge(path_type_df, hwy_dist_df, left_on=[\"orig_emme_taz\", \"dest_emme_taz\"], right_on=[\"origin\", \"destination\"], how=\"left\")\n",
    "path_type_df = path_type_df.drop(columns=[\"origin\", \"destination\"])\n",
    "path_type_df.head()\n"
   ]
  },
  {
   "cell_type": "code",
   "execution_count": 106,
   "metadata": {},
   "outputs": [
    {
     "data": {
      "text/plain": [
       "1.0"
      ]
     },
     "execution_count": 106,
     "metadata": {},
     "output_type": "execute_result"
    }
   ],
   "source": [
    "sum(path_type_df[\"transit_trips\"])/sum(path_type_df[\"trips\"])"
   ]
  },
  {
   "cell_type": "code",
   "execution_count": 107,
   "metadata": {},
   "outputs": [
    {
     "data": {
      "text/plain": [
       "0.0"
      ]
     },
     "execution_count": 107,
     "metadata": {},
     "output_type": "execute_result"
    }
   ],
   "source": [
    "sum(path_type_df[\"walk_trips\"])/sum(path_type_df[\"trips\"])"
   ]
  },
  {
   "cell_type": "code",
   "execution_count": 108,
   "metadata": {},
   "outputs": [
    {
     "data": {
      "text/plain": [
       "1.0"
      ]
     },
     "execution_count": 108,
     "metadata": {},
     "output_type": "execute_result"
    }
   ],
   "source": [
    "(sum(path_type_df[\"walk_trips\"]) + sum(path_type_df[\"transit_trips\"]))/sum(path_type_df[\"trips\"])"
   ]
  },
  {
   "cell_type": "code",
   "execution_count": 109,
   "metadata": {},
   "outputs": [
    {
     "data": {
      "text/plain": [
       "count    26599.000000\n",
       "mean        10.786821\n",
       "std          8.886543\n",
       "min          0.187586\n",
       "25%          3.874539\n",
       "50%          7.973752\n",
       "75%         15.150299\n",
       "max         55.445045\n",
       "Name: roadway_distance, dtype: float64"
      ]
     },
     "execution_count": 109,
     "metadata": {},
     "output_type": "execute_result"
    }
   ],
   "source": [
    "path_type_df[\"roadway_distance\"].describe()"
   ]
  },
  {
   "cell_type": "code",
   "execution_count": 110,
   "metadata": {},
   "outputs": [
    {
     "data": {
      "text/plain": [
       "count     26599.000000\n",
       "trips    315848.438157\n",
       "mean          8.332068\n",
       "std           7.807270\n",
       "min           0.187586\n",
       "25%           3.874539\n",
       "50%           7.973752\n",
       "75%          15.150299\n",
       "max          55.445045\n",
       "dtype: float64"
      ]
     },
     "execution_count": 110,
     "metadata": {},
     "output_type": "execute_result"
    }
   ],
   "source": [
    "weighted_outcomes(path_type_df[\"roadway_distance\"], path_type_df[\"trips\"])"
   ]
  },
  {
   "cell_type": "code",
   "execution_count": 111,
   "metadata": {},
   "outputs": [
    {
     "data": {
      "text/plain": [
       "count     26599.000000\n",
       "trips    315848.438157\n",
       "mean          8.332068\n",
       "std           7.807270\n",
       "min           0.187586\n",
       "25%           3.874539\n",
       "50%           7.973752\n",
       "75%          15.150299\n",
       "max          55.445045\n",
       "dtype: float64"
      ]
     },
     "execution_count": 111,
     "metadata": {},
     "output_type": "execute_result"
    }
   ],
   "source": [
    "df = path_type_df[path_type_df[\"transit_trips\"] > 0.0].copy()\n",
    "weighted_outcomes(df[\"roadway_distance\"], df[\"transit_trips\"])"
   ]
  },
  {
   "cell_type": "code",
   "execution_count": 112,
   "metadata": {},
   "outputs": [],
   "source": [
    "## df = path_type_df[path_type_df[\"walk_trips\"] > 0.0].copy()\n",
    "## weighted_outcomes(df[\"roadway_distance\"], df[\"walk_trips\"])"
   ]
  },
  {
   "cell_type": "markdown",
   "metadata": {},
   "source": [
    "### Count Transit and Walk-all-the-way Paths for Within San Francisco Trips"
   ]
  },
  {
   "cell_type": "code",
   "execution_count": 113,
   "metadata": {},
   "outputs": [
    {
     "data": {
      "text/plain": [
       "1.0"
      ]
     },
     "execution_count": 113,
     "metadata": {},
     "output_type": "execute_result"
    }
   ],
   "source": [
    "MAX_SF_EMME_TAZ = 636\n",
    "sf_path_type_df = path_type_df[(path_type_df[\"orig_emme_taz\"]<=MAX_SF_EMME_TAZ) & (path_type_df[\"dest_emme_taz\"]<=MAX_SF_EMME_TAZ)].copy().reset_index(drop=True)\n",
    "sum(sf_path_type_df[\"transit_trips\"])/sum(sf_path_type_df[\"trips\"])"
   ]
  },
  {
   "cell_type": "code",
   "execution_count": 114,
   "metadata": {},
   "outputs": [
    {
     "data": {
      "text/plain": [
       "0.0"
      ]
     },
     "execution_count": 114,
     "metadata": {},
     "output_type": "execute_result"
    }
   ],
   "source": [
    "sum(sf_path_type_df[\"walk_trips\"])/sum(sf_path_type_df[\"trips\"])"
   ]
  },
  {
   "cell_type": "code",
   "execution_count": 115,
   "metadata": {},
   "outputs": [
    {
     "data": {
      "text/plain": [
       "count      9357.000000\n",
       "trips    152755.060269\n",
       "mean          3.981575\n",
       "std           2.256317\n",
       "min           0.187586\n",
       "25%           2.440529\n",
       "50%           3.946632\n",
       "75%           5.962946\n",
       "max          12.886116\n",
       "dtype: float64"
      ]
     },
     "execution_count": 115,
     "metadata": {},
     "output_type": "execute_result"
    }
   ],
   "source": [
    "df = sf_path_type_df[sf_path_type_df[\"trips\"] > 0.0].copy()\n",
    "weighted_outcomes(df[\"roadway_distance\"], df[\"trips\"])"
   ]
  },
  {
   "cell_type": "code",
   "execution_count": 116,
   "metadata": {},
   "outputs": [
    {
     "data": {
      "text/plain": [
       "count      9357.000000\n",
       "trips    152755.060269\n",
       "mean          3.981575\n",
       "std           2.256317\n",
       "min           0.187586\n",
       "25%           2.440529\n",
       "50%           3.946632\n",
       "75%           5.962946\n",
       "max          12.886116\n",
       "dtype: float64"
      ]
     },
     "execution_count": 116,
     "metadata": {},
     "output_type": "execute_result"
    }
   ],
   "source": [
    "df = sf_path_type_df[sf_path_type_df[\"transit_trips\"] > 0.0].copy()\n",
    "weighted_outcomes(df[\"roadway_distance\"], df[\"transit_trips\"])"
   ]
  },
  {
   "cell_type": "code",
   "execution_count": 117,
   "metadata": {},
   "outputs": [],
   "source": [
    "## df = sf_path_type_df[sf_path_type_df[\"walk_trips\"] > 0.0].copy()\n",
    "## weighted_outcomes(df[\"roadway_distance\"], df[\"walk_trips\"])"
   ]
  },
  {
   "cell_type": "markdown",
   "metadata": {},
   "source": [
    "### Look at high impedance interchanges that are failing in the congested assignment"
   ]
  },
  {
   "cell_type": "code",
   "execution_count": 118,
   "metadata": {},
   "outputs": [
    {
     "data": {
      "text/html": [
       "<div>\n",
       "<style scoped>\n",
       "    .dataframe tbody tr th:only-of-type {\n",
       "        vertical-align: middle;\n",
       "    }\n",
       "\n",
       "    .dataframe tbody tr th {\n",
       "        vertical-align: top;\n",
       "    }\n",
       "\n",
       "    .dataframe thead th {\n",
       "        text-align: right;\n",
       "    }\n",
       "</style>\n",
       "<table border=\"1\" class=\"dataframe\">\n",
       "  <thead>\n",
       "    <tr style=\"text-align: right;\">\n",
       "      <th></th>\n",
       "      <th>origin</th>\n",
       "      <th>destination</th>\n",
       "      <th>IVT</th>\n",
       "      <th>WAUX</th>\n",
       "      <th>BOARDS</th>\n",
       "      <th>WACC</th>\n",
       "      <th>WEGR</th>\n",
       "      <th>path_type</th>\n",
       "      <th>time_period</th>\n",
       "    </tr>\n",
       "  </thead>\n",
       "  <tbody>\n",
       "    <tr>\n",
       "      <th>0</th>\n",
       "      <td>1</td>\n",
       "      <td>1</td>\n",
       "      <td>0.000000</td>\n",
       "      <td>0.000000</td>\n",
       "      <td>0.0</td>\n",
       "      <td>0.000000</td>\n",
       "      <td>0.0</td>\n",
       "      <td>wlk_trn_pnr</td>\n",
       "      <td>am</td>\n",
       "    </tr>\n",
       "    <tr>\n",
       "      <th>1</th>\n",
       "      <td>1</td>\n",
       "      <td>2</td>\n",
       "      <td>5.000000</td>\n",
       "      <td>0.000000</td>\n",
       "      <td>1.0</td>\n",
       "      <td>1.802485</td>\n",
       "      <td>0.0</td>\n",
       "      <td>wlk_trn_pnr</td>\n",
       "      <td>am</td>\n",
       "    </tr>\n",
       "    <tr>\n",
       "      <th>2</th>\n",
       "      <td>1</td>\n",
       "      <td>3</td>\n",
       "      <td>5.000000</td>\n",
       "      <td>0.000000</td>\n",
       "      <td>1.0</td>\n",
       "      <td>6.881343</td>\n",
       "      <td>0.0</td>\n",
       "      <td>wlk_trn_pnr</td>\n",
       "      <td>am</td>\n",
       "    </tr>\n",
       "    <tr>\n",
       "      <th>3</th>\n",
       "      <td>1</td>\n",
       "      <td>4</td>\n",
       "      <td>40.891212</td>\n",
       "      <td>5.762158</td>\n",
       "      <td>2.0</td>\n",
       "      <td>2.035112</td>\n",
       "      <td>0.0</td>\n",
       "      <td>wlk_trn_pnr</td>\n",
       "      <td>am</td>\n",
       "    </tr>\n",
       "    <tr>\n",
       "      <th>4</th>\n",
       "      <td>1</td>\n",
       "      <td>5</td>\n",
       "      <td>5.000000</td>\n",
       "      <td>0.000000</td>\n",
       "      <td>1.0</td>\n",
       "      <td>9.645048</td>\n",
       "      <td>0.0</td>\n",
       "      <td>wlk_trn_pnr</td>\n",
       "      <td>am</td>\n",
       "    </tr>\n",
       "  </tbody>\n",
       "</table>\n",
       "</div>"
      ],
      "text/plain": [
       "   origin  destination        IVT      WAUX  BOARDS      WACC  WEGR  \\\n",
       "0       1            1   0.000000  0.000000     0.0  0.000000   0.0   \n",
       "1       1            2   5.000000  0.000000     1.0  1.802485   0.0   \n",
       "2       1            3   5.000000  0.000000     1.0  6.881343   0.0   \n",
       "3       1            4  40.891212  5.762158     2.0  2.035112   0.0   \n",
       "4       1            5   5.000000  0.000000     1.0  9.645048   0.0   \n",
       "\n",
       "     path_type time_period  \n",
       "0  wlk_trn_pnr          am  \n",
       "1  wlk_trn_pnr          am  \n",
       "2  wlk_trn_pnr          am  \n",
       "3  wlk_trn_pnr          am  \n",
       "4  wlk_trn_pnr          am  "
      ]
     },
     "execution_count": 118,
     "metadata": {},
     "output_type": "execute_result"
    }
   ],
   "source": [
    "skims_df = fetch_skim_values(\"WLK_TRN_PNR\", \"AM\")\n",
    "skims_df.head()"
   ]
  },
  {
   "cell_type": "code",
   "execution_count": 119,
   "metadata": {},
   "outputs": [
    {
     "data": {
      "text/html": [
       "<div>\n",
       "<style scoped>\n",
       "    .dataframe tbody tr th:only-of-type {\n",
       "        vertical-align: middle;\n",
       "    }\n",
       "\n",
       "    .dataframe tbody tr th {\n",
       "        vertical-align: top;\n",
       "    }\n",
       "\n",
       "    .dataframe thead th {\n",
       "        text-align: right;\n",
       "    }\n",
       "</style>\n",
       "<table border=\"1\" class=\"dataframe\">\n",
       "  <thead>\n",
       "    <tr style=\"text-align: right;\">\n",
       "      <th></th>\n",
       "      <th>origin</th>\n",
       "      <th>destination</th>\n",
       "      <th>IVT</th>\n",
       "      <th>WAUX</th>\n",
       "      <th>BOARDS</th>\n",
       "      <th>WACC</th>\n",
       "      <th>WEGR</th>\n",
       "      <th>path_type</th>\n",
       "      <th>time_period</th>\n",
       "    </tr>\n",
       "  </thead>\n",
       "  <tbody>\n",
       "    <tr>\n",
       "      <th>0</th>\n",
       "      <td>1</td>\n",
       "      <td>1</td>\n",
       "      <td>0.000000</td>\n",
       "      <td>0.000000</td>\n",
       "      <td>0.0</td>\n",
       "      <td>0.000000</td>\n",
       "      <td>0.0</td>\n",
       "      <td>wlk_trn_pnr</td>\n",
       "      <td>am</td>\n",
       "    </tr>\n",
       "    <tr>\n",
       "      <th>1</th>\n",
       "      <td>1</td>\n",
       "      <td>2</td>\n",
       "      <td>5.000000</td>\n",
       "      <td>0.000000</td>\n",
       "      <td>1.0</td>\n",
       "      <td>1.802485</td>\n",
       "      <td>0.0</td>\n",
       "      <td>wlk_trn_pnr</td>\n",
       "      <td>am</td>\n",
       "    </tr>\n",
       "    <tr>\n",
       "      <th>2</th>\n",
       "      <td>1</td>\n",
       "      <td>3</td>\n",
       "      <td>5.000000</td>\n",
       "      <td>0.000000</td>\n",
       "      <td>1.0</td>\n",
       "      <td>6.881343</td>\n",
       "      <td>0.0</td>\n",
       "      <td>wlk_trn_pnr</td>\n",
       "      <td>am</td>\n",
       "    </tr>\n",
       "    <tr>\n",
       "      <th>3</th>\n",
       "      <td>1</td>\n",
       "      <td>4</td>\n",
       "      <td>40.891212</td>\n",
       "      <td>5.762158</td>\n",
       "      <td>2.0</td>\n",
       "      <td>2.035112</td>\n",
       "      <td>0.0</td>\n",
       "      <td>wlk_trn_pnr</td>\n",
       "      <td>am</td>\n",
       "    </tr>\n",
       "    <tr>\n",
       "      <th>4</th>\n",
       "      <td>1</td>\n",
       "      <td>5</td>\n",
       "      <td>5.000000</td>\n",
       "      <td>0.000000</td>\n",
       "      <td>1.0</td>\n",
       "      <td>9.645048</td>\n",
       "      <td>0.0</td>\n",
       "      <td>wlk_trn_pnr</td>\n",
       "      <td>am</td>\n",
       "    </tr>\n",
       "  </tbody>\n",
       "</table>\n",
       "</div>"
      ],
      "text/plain": [
       "   origin  destination        IVT      WAUX  BOARDS      WACC  WEGR  \\\n",
       "0       1            1   0.000000  0.000000     0.0  0.000000   0.0   \n",
       "1       1            2   5.000000  0.000000     1.0  1.802485   0.0   \n",
       "2       1            3   5.000000  0.000000     1.0  6.881343   0.0   \n",
       "3       1            4  40.891212  5.762158     2.0  2.035112   0.0   \n",
       "4       1            5   5.000000  0.000000     1.0  9.645048   0.0   \n",
       "\n",
       "     path_type time_period  \n",
       "0  wlk_trn_pnr          am  \n",
       "1  wlk_trn_pnr          am  \n",
       "2  wlk_trn_pnr          am  \n",
       "3  wlk_trn_pnr          am  \n",
       "4  wlk_trn_pnr          am  "
      ]
     },
     "execution_count": 119,
     "metadata": {},
     "output_type": "execute_result"
    }
   ],
   "source": [
    "skims_df.head()"
   ]
  },
  {
   "cell_type": "code",
   "execution_count": 120,
   "metadata": {},
   "outputs": [
    {
     "data": {
      "text/html": [
       "<div>\n",
       "<style scoped>\n",
       "    .dataframe tbody tr th:only-of-type {\n",
       "        vertical-align: middle;\n",
       "    }\n",
       "\n",
       "    .dataframe tbody tr th {\n",
       "        vertical-align: top;\n",
       "    }\n",
       "\n",
       "    .dataframe thead th {\n",
       "        text-align: right;\n",
       "    }\n",
       "</style>\n",
       "<table border=\"1\" class=\"dataframe\">\n",
       "  <thead>\n",
       "    <tr style=\"text-align: right;\">\n",
       "      <th></th>\n",
       "      <th>model_time</th>\n",
       "      <th>orig_emme_taz</th>\n",
       "      <th>dest_emme_taz</th>\n",
       "      <th>trips</th>\n",
       "      <th>path_found_wlk_trn_pnr</th>\n",
       "      <th>transit_path_found_wlk_trn_pnr</th>\n",
       "    </tr>\n",
       "  </thead>\n",
       "  <tbody>\n",
       "    <tr>\n",
       "      <th>0</th>\n",
       "      <td>am</td>\n",
       "      <td>4</td>\n",
       "      <td>1020</td>\n",
       "      <td>4.354680</td>\n",
       "      <td>False</td>\n",
       "      <td>True</td>\n",
       "    </tr>\n",
       "    <tr>\n",
       "      <th>1</th>\n",
       "      <td>am</td>\n",
       "      <td>17</td>\n",
       "      <td>3626</td>\n",
       "      <td>3.013748</td>\n",
       "      <td>False</td>\n",
       "      <td>True</td>\n",
       "    </tr>\n",
       "    <tr>\n",
       "      <th>2</th>\n",
       "      <td>am</td>\n",
       "      <td>18</td>\n",
       "      <td>3634</td>\n",
       "      <td>2.681981</td>\n",
       "      <td>True</td>\n",
       "      <td>True</td>\n",
       "    </tr>\n",
       "    <tr>\n",
       "      <th>3</th>\n",
       "      <td>am</td>\n",
       "      <td>25</td>\n",
       "      <td>762</td>\n",
       "      <td>3.513952</td>\n",
       "      <td>True</td>\n",
       "      <td>True</td>\n",
       "    </tr>\n",
       "    <tr>\n",
       "      <th>4</th>\n",
       "      <td>am</td>\n",
       "      <td>27</td>\n",
       "      <td>780</td>\n",
       "      <td>7.377658</td>\n",
       "      <td>False</td>\n",
       "      <td>True</td>\n",
       "    </tr>\n",
       "  </tbody>\n",
       "</table>\n",
       "</div>"
      ],
      "text/plain": [
       "  model_time  orig_emme_taz  dest_emme_taz     trips  path_found_wlk_trn_pnr  \\\n",
       "0         am              4           1020  4.354680                   False   \n",
       "1         am             17           3626  3.013748                   False   \n",
       "2         am             18           3634  2.681981                    True   \n",
       "3         am             25            762  3.513952                    True   \n",
       "4         am             27            780  7.377658                   False   \n",
       "\n",
       "   transit_path_found_wlk_trn_pnr  \n",
       "0                            True  \n",
       "1                            True  \n",
       "2                            True  \n",
       "3                            True  \n",
       "4                            True  "
      ]
     },
     "execution_count": 120,
     "metadata": {},
     "output_type": "execute_result"
    }
   ],
   "source": [
    "df = output_df[output_df[\"path_type\"] == \"wlk_trn_pnr\"].copy()\n",
    "df = df[[\"model_time\", \"orig_emme_taz\", \"dest_emme_taz\", \"trips\", \"path_found_wlk_trn_pnr\", \"transit_path_found_wlk_trn_pnr\"]].copy().reset_index(drop=True)\n",
    "df.head()"
   ]
  },
  {
   "cell_type": "code",
   "execution_count": 121,
   "metadata": {},
   "outputs": [
    {
     "data": {
      "text/html": [
       "<div>\n",
       "<style scoped>\n",
       "    .dataframe tbody tr th:only-of-type {\n",
       "        vertical-align: middle;\n",
       "    }\n",
       "\n",
       "    .dataframe tbody tr th {\n",
       "        vertical-align: top;\n",
       "    }\n",
       "\n",
       "    .dataframe thead th {\n",
       "        text-align: right;\n",
       "    }\n",
       "</style>\n",
       "<table border=\"1\" class=\"dataframe\">\n",
       "  <thead>\n",
       "    <tr style=\"text-align: right;\">\n",
       "      <th></th>\n",
       "      <th>model_time</th>\n",
       "      <th>orig_emme_taz</th>\n",
       "      <th>dest_emme_taz</th>\n",
       "      <th>trips</th>\n",
       "      <th>path_found_wlk_trn_pnr</th>\n",
       "      <th>transit_path_found_wlk_trn_pnr</th>\n",
       "      <th>IVT</th>\n",
       "      <th>BOARDS</th>\n",
       "      <th>WACC</th>\n",
       "      <th>WAUX</th>\n",
       "      <th>WEGR</th>\n",
       "    </tr>\n",
       "  </thead>\n",
       "  <tbody>\n",
       "    <tr>\n",
       "      <th>0</th>\n",
       "      <td>am</td>\n",
       "      <td>4</td>\n",
       "      <td>1020</td>\n",
       "      <td>4.354680</td>\n",
       "      <td>False</td>\n",
       "      <td>True</td>\n",
       "      <td>20.000000</td>\n",
       "      <td>1.000000</td>\n",
       "      <td>11.423782</td>\n",
       "      <td>0.000000</td>\n",
       "      <td>0.0</td>\n",
       "    </tr>\n",
       "    <tr>\n",
       "      <th>1</th>\n",
       "      <td>am</td>\n",
       "      <td>17</td>\n",
       "      <td>3626</td>\n",
       "      <td>3.013748</td>\n",
       "      <td>False</td>\n",
       "      <td>True</td>\n",
       "      <td>66.385551</td>\n",
       "      <td>2.000000</td>\n",
       "      <td>10.678999</td>\n",
       "      <td>3.869747</td>\n",
       "      <td>0.0</td>\n",
       "    </tr>\n",
       "    <tr>\n",
       "      <th>2</th>\n",
       "      <td>am</td>\n",
       "      <td>18</td>\n",
       "      <td>3634</td>\n",
       "      <td>2.681981</td>\n",
       "      <td>True</td>\n",
       "      <td>True</td>\n",
       "      <td>48.032963</td>\n",
       "      <td>2.315567</td>\n",
       "      <td>11.996914</td>\n",
       "      <td>3.460896</td>\n",
       "      <td>0.0</td>\n",
       "    </tr>\n",
       "    <tr>\n",
       "      <th>3</th>\n",
       "      <td>am</td>\n",
       "      <td>25</td>\n",
       "      <td>762</td>\n",
       "      <td>3.513952</td>\n",
       "      <td>True</td>\n",
       "      <td>True</td>\n",
       "      <td>21.701530</td>\n",
       "      <td>1.000000</td>\n",
       "      <td>14.477477</td>\n",
       "      <td>0.000000</td>\n",
       "      <td>0.0</td>\n",
       "    </tr>\n",
       "    <tr>\n",
       "      <th>4</th>\n",
       "      <td>am</td>\n",
       "      <td>27</td>\n",
       "      <td>780</td>\n",
       "      <td>7.377658</td>\n",
       "      <td>False</td>\n",
       "      <td>True</td>\n",
       "      <td>51.306515</td>\n",
       "      <td>2.000000</td>\n",
       "      <td>2.898661</td>\n",
       "      <td>4.719433</td>\n",
       "      <td>0.0</td>\n",
       "    </tr>\n",
       "  </tbody>\n",
       "</table>\n",
       "</div>"
      ],
      "text/plain": [
       "  model_time  orig_emme_taz  dest_emme_taz     trips  path_found_wlk_trn_pnr  \\\n",
       "0         am              4           1020  4.354680                   False   \n",
       "1         am             17           3626  3.013748                   False   \n",
       "2         am             18           3634  2.681981                    True   \n",
       "3         am             25            762  3.513952                    True   \n",
       "4         am             27            780  7.377658                   False   \n",
       "\n",
       "   transit_path_found_wlk_trn_pnr        IVT    BOARDS       WACC      WAUX  \\\n",
       "0                            True  20.000000  1.000000  11.423782  0.000000   \n",
       "1                            True  66.385551  2.000000  10.678999  3.869747   \n",
       "2                            True  48.032963  2.315567  11.996914  3.460896   \n",
       "3                            True  21.701530  1.000000  14.477477  0.000000   \n",
       "4                            True  51.306515  2.000000   2.898661  4.719433   \n",
       "\n",
       "   WEGR  \n",
       "0   0.0  \n",
       "1   0.0  \n",
       "2   0.0  \n",
       "3   0.0  \n",
       "4   0.0  "
      ]
     },
     "execution_count": 121,
     "metadata": {},
     "output_type": "execute_result"
    }
   ],
   "source": [
    "a_df = pd.merge(\n",
    "        df, \n",
    "        skims_df[[\"origin\", \"destination\", \"time_period\", \"IVT\", \"BOARDS\", \"WACC\", \"WAUX\", \"WEGR\"]], \n",
    "        left_on = [\"model_time\", \"orig_emme_taz\", \"dest_emme_taz\"], \n",
    "        right_on=[\"time_period\", \"origin\", \"destination\"], how=\"left\",\n",
    "    ).reset_index(drop=True)\n",
    "a_df = a_df.drop(columns=[\"origin\", \"destination\", \"time_period\"])\n",
    "a_df.head()"
   ]
  },
  {
   "cell_type": "code",
   "execution_count": 122,
   "metadata": {},
   "outputs": [],
   "source": [
    "a_df[\"path_util\"] = a_df[\"IVT\"] + a_df[\"WAUX\"]*2.0 + a_df[\"WACC\"]*2.0 + a_df[\"WEGR\"]*2.0 + 10.0 * a_df[\"BOARDS\"]"
   ]
  },
  {
   "cell_type": "code",
   "execution_count": 123,
   "metadata": {},
   "outputs": [
    {
     "data": {
      "text/html": [
       "<div>\n",
       "<style scoped>\n",
       "    .dataframe tbody tr th:only-of-type {\n",
       "        vertical-align: middle;\n",
       "    }\n",
       "\n",
       "    .dataframe tbody tr th {\n",
       "        vertical-align: top;\n",
       "    }\n",
       "\n",
       "    .dataframe thead th {\n",
       "        text-align: right;\n",
       "    }\n",
       "</style>\n",
       "<table border=\"1\" class=\"dataframe\">\n",
       "  <thead>\n",
       "    <tr style=\"text-align: right;\">\n",
       "      <th></th>\n",
       "      <th>model_time</th>\n",
       "      <th>orig_emme_taz</th>\n",
       "      <th>dest_emme_taz</th>\n",
       "      <th>trips</th>\n",
       "      <th>path_found_wlk_trn_pnr</th>\n",
       "      <th>transit_path_found_wlk_trn_pnr</th>\n",
       "      <th>IVT</th>\n",
       "      <th>BOARDS</th>\n",
       "      <th>WACC</th>\n",
       "      <th>WAUX</th>\n",
       "      <th>WEGR</th>\n",
       "      <th>path_util</th>\n",
       "      <th>total_imped</th>\n",
       "      <th>path_type</th>\n",
       "    </tr>\n",
       "  </thead>\n",
       "  <tbody>\n",
       "    <tr>\n",
       "      <th>0</th>\n",
       "      <td>am</td>\n",
       "      <td>4</td>\n",
       "      <td>1020</td>\n",
       "      <td>4.354680</td>\n",
       "      <td>False</td>\n",
       "      <td>True</td>\n",
       "      <td>20.000000</td>\n",
       "      <td>1.000000</td>\n",
       "      <td>11.423782</td>\n",
       "      <td>0.000000</td>\n",
       "      <td>0.0</td>\n",
       "      <td>52.847565</td>\n",
       "      <td>153.691422</td>\n",
       "      <td>wlk_trn_pnr</td>\n",
       "    </tr>\n",
       "    <tr>\n",
       "      <th>1</th>\n",
       "      <td>am</td>\n",
       "      <td>17</td>\n",
       "      <td>3626</td>\n",
       "      <td>3.013748</td>\n",
       "      <td>False</td>\n",
       "      <td>True</td>\n",
       "      <td>66.385551</td>\n",
       "      <td>2.000000</td>\n",
       "      <td>10.678999</td>\n",
       "      <td>3.869747</td>\n",
       "      <td>0.0</td>\n",
       "      <td>115.483043</td>\n",
       "      <td>169.309616</td>\n",
       "      <td>wlk_trn_pnr</td>\n",
       "    </tr>\n",
       "    <tr>\n",
       "      <th>2</th>\n",
       "      <td>am</td>\n",
       "      <td>18</td>\n",
       "      <td>3634</td>\n",
       "      <td>2.681981</td>\n",
       "      <td>True</td>\n",
       "      <td>True</td>\n",
       "      <td>48.032963</td>\n",
       "      <td>2.315567</td>\n",
       "      <td>11.996914</td>\n",
       "      <td>3.460896</td>\n",
       "      <td>0.0</td>\n",
       "      <td>102.104248</td>\n",
       "      <td>148.818268</td>\n",
       "      <td>wlk_trn_pnr</td>\n",
       "    </tr>\n",
       "    <tr>\n",
       "      <th>3</th>\n",
       "      <td>am</td>\n",
       "      <td>25</td>\n",
       "      <td>762</td>\n",
       "      <td>3.513952</td>\n",
       "      <td>True</td>\n",
       "      <td>True</td>\n",
       "      <td>21.701530</td>\n",
       "      <td>1.000000</td>\n",
       "      <td>14.477477</td>\n",
       "      <td>0.000000</td>\n",
       "      <td>0.0</td>\n",
       "      <td>60.656485</td>\n",
       "      <td>112.030525</td>\n",
       "      <td>wlk_trn_pnr</td>\n",
       "    </tr>\n",
       "    <tr>\n",
       "      <th>4</th>\n",
       "      <td>am</td>\n",
       "      <td>27</td>\n",
       "      <td>780</td>\n",
       "      <td>7.377658</td>\n",
       "      <td>False</td>\n",
       "      <td>True</td>\n",
       "      <td>51.306515</td>\n",
       "      <td>2.000000</td>\n",
       "      <td>2.898661</td>\n",
       "      <td>4.719433</td>\n",
       "      <td>0.0</td>\n",
       "      <td>86.542704</td>\n",
       "      <td>182.745026</td>\n",
       "      <td>wlk_trn_pnr</td>\n",
       "    </tr>\n",
       "  </tbody>\n",
       "</table>\n",
       "</div>"
      ],
      "text/plain": [
       "  model_time  orig_emme_taz  dest_emme_taz     trips  path_found_wlk_trn_pnr  \\\n",
       "0         am              4           1020  4.354680                   False   \n",
       "1         am             17           3626  3.013748                   False   \n",
       "2         am             18           3634  2.681981                    True   \n",
       "3         am             25            762  3.513952                    True   \n",
       "4         am             27            780  7.377658                   False   \n",
       "\n",
       "   transit_path_found_wlk_trn_pnr        IVT    BOARDS       WACC      WAUX  \\\n",
       "0                            True  20.000000  1.000000  11.423782  0.000000   \n",
       "1                            True  66.385551  2.000000  10.678999  3.869747   \n",
       "2                            True  48.032963  2.315567  11.996914  3.460896   \n",
       "3                            True  21.701530  1.000000  14.477477  0.000000   \n",
       "4                            True  51.306515  2.000000   2.898661  4.719433   \n",
       "\n",
       "   WEGR   path_util  total_imped    path_type  \n",
       "0   0.0   52.847565   153.691422  wlk_trn_pnr  \n",
       "1   0.0  115.483043   169.309616  wlk_trn_pnr  \n",
       "2   0.0  102.104248   148.818268  wlk_trn_pnr  \n",
       "3   0.0   60.656485   112.030525  wlk_trn_pnr  \n",
       "4   0.0   86.542704   182.745026  wlk_trn_pnr  "
      ]
     },
     "execution_count": 123,
     "metadata": {},
     "output_type": "execute_result"
    }
   ],
   "source": [
    "b_df = pd.merge(\n",
    "     a_df,\n",
    "     wtp_df,\n",
    "    left_on = [\"orig_emme_taz\", \"dest_emme_taz\"],\n",
    "    right_on=[\"origin\", \"destination\"], \n",
    "    how=\"left\",\n",
    ").reset_index(drop=True)\n",
    "b_df = b_df.drop(columns=[\"origin\", \"destination\"])\n",
    "b_df.head()"
   ]
  },
  {
   "cell_type": "code",
   "execution_count": null,
   "metadata": {},
   "outputs": [],
   "source": []
  }
 ],
 "metadata": {
  "kernelspec": {
   "display_name": "tm2py",
   "language": "python",
   "name": "python3"
  },
  "language_info": {
   "codemirror_mode": {
    "name": "ipython",
    "version": 3
   },
   "file_extension": ".py",
   "mimetype": "text/x-python",
   "name": "python",
   "nbconvert_exporter": "python",
   "pygments_lexer": "ipython3",
   "version": "3.7.10"
  }
 },
 "nbformat": 4,
 "nbformat_minor": 2
}
