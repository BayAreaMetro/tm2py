{
 "cells": [
  {
   "cell_type": "code",
   "execution_count": 8,
   "metadata": {},
   "outputs": [],
   "source": [
    "from tm2py.acceptance.acceptance_temp import Acceptance\n",
    "from tm2py.acceptance.canonical_temp import Canonical\n",
    "from tm2py.acceptance.simulated_temp import Simulated\n",
    "from tm2py.acceptance.observed_temp import Observed\n",
    "\n",
    "from pathlib import Path\n",
    "import itertools\n",
    "import numpy as np\n",
    "import pandas as pd\n",
    "import geopandas as gpd\n",
    "import os\n",
    "import openmatrix as omx"
   ]
  },
  {
   "cell_type": "code",
   "execution_count": 6,
   "metadata": {},
   "outputs": [],
   "source": [
    "scenario_config_file = \"../examples/scenario_config_temp.toml\"\n",
    "model_config_file = \"../examples/model_config.toml\"\n",
    "observed_config_file = \"../examples/observed_data_temp.toml\"\n",
    "canonical_crosswalk_file = \"../examples/canonical_crosswalk_temp.toml\"\n",
    "\n",
    "#output_folder_root = \"/Users/wsp/Documents/GitHub/tm2py/examples/temp_acceptance/\"\n",
    "output_folder_root =\"/Users/USVA682771/GitHub/tm2py/examples/temp_acceptance/\""
   ]
  },
  {
   "cell_type": "code",
   "execution_count": 3,
   "metadata": {},
   "outputs": [],
   "source": [
    "c = Canonical(canonical_crosswalk_file)"
   ]
  },
  {
   "cell_type": "code",
   "execution_count": null,
   "metadata": {},
   "outputs": [],
   "source": [
    "s = Simulated(canonical=c, scenario_file=scenario_config_file, model_file=model_config_file)"
   ]
  },
  {
   "cell_type": "code",
   "execution_count": 5,
   "metadata": {},
   "outputs": [],
   "source": [
    "o = Observed(canonical=c, observed_file=observed_config_file)"
   ]
  },
  {
   "cell_type": "code",
   "execution_count": 6,
   "metadata": {},
   "outputs": [],
   "source": [
    "a = Acceptance(canonical=c, simulated=s, observed=o, output_file_root=output_folder_root)"
   ]
  },
  {
   "cell_type": "code",
   "execution_count": 7,
   "metadata": {},
   "outputs": [],
   "source": [
    "a.make_acceptance(make_transit=False, make_roadway=True, make_other=False)"
   ]
  },
  {
   "cell_type": "code",
   "execution_count": null,
   "metadata": {},
   "outputs": [],
   "source": []
  }
 ],
 "metadata": {
  "kernelspec": {
   "display_name": "Python 3.7.6 ('tm2py')",
   "language": "python",
   "name": "python3"
  },
  "language_info": {
   "codemirror_mode": {
    "name": "ipython",
    "version": 3
   },
   "file_extension": ".py",
   "mimetype": "text/x-python",
   "name": "python",
   "nbconvert_exporter": "python",
   "pygments_lexer": "ipython3",
   "version": "3.7.6"
  },
  "orig_nbformat": 4,
  "vscode": {
   "interpreter": {
    "hash": "6dd5f385b58ccc938c48bf5f132a7e16a29f689fe01aa42e1e0febc8b9156982"
   }
  }
 },
 "nbformat": 4,
 "nbformat_minor": 2
}
