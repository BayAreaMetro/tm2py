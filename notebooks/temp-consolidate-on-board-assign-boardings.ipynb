{
 "cells": [
  {
   "cell_type": "markdown",
   "metadata": {},
   "source": [
    "## Consolidate On-board Survey Assign Summaries\n",
    "Right now the assignment of the on-board survey demand is being done separately for each path. We are looking into why this is happening and expect to fix it soon. For now, this script consolidates the assignment results across the paths and creates the input expected by 'on-board-survey-assign-summary.ipynb'.\n",
    "\n",
    "\n",
    "\n",
    "\n"
   ]
  },
  {
   "cell_type": "code",
   "execution_count": 13,
   "metadata": {},
   "outputs": [],
   "source": [
    "import pandas as pd"
   ]
  },
  {
   "cell_type": "markdown",
   "metadata": {},
   "source": [
    "### Remote I/O"
   ]
  },
  {
   "cell_type": "code",
   "execution_count": 14,
   "metadata": {},
   "outputs": [],
   "source": [
    "dir = r\"/Users/wsp/Documents/GitHub/tm2py/examples/temp_acceptance/output_summaries/\"\n"
   ]
  },
  {
   "cell_type": "code",
   "execution_count": 15,
   "metadata": {},
   "outputs": [
    {
     "name": "stdout",
     "output_type": "stream",
     "text": [
      "path_num:  1   boardings:  129122.98029420098\n",
      "path_num:  2   boardings:  265079.351375192\n",
      "path_num:  3   boardings:  5121.7775080110005\n",
      "path_num:  4   boardings:  81572.98784308501\n",
      "path_num:  5   boardings:  10601.749008038\n"
     ]
    },
    {
     "data": {
      "text/plain": [
       "491498.8460285269"
      ]
     },
     "execution_count": 15,
     "metadata": {},
     "output_type": "execute_result"
    }
   ],
   "source": [
    "running_df = pd.DataFrame()\n",
    "for path_num in range(1,6):\n",
    "    path = dir + \"boardings_by_line_am_\" + str(path_num) + \".csv\"\n",
    "    df = pd.read_csv(path) \n",
    "    print(\"path_num: \", path_num, \"  boardings: \", df[\"total_boarding\"].sum())\n",
    "    if path_num == 1:\n",
    "        running_df = df\n",
    "    else:\n",
    "        running_df = pd.concat([running_df, df])\n",
    "\n",
    "running_df[\"total_boarding\"].sum()"
   ]
  },
  {
   "cell_type": "code",
   "execution_count": 17,
   "metadata": {},
   "outputs": [
    {
     "data": {
      "text/html": [
       "<div>\n",
       "<style scoped>\n",
       "    .dataframe tbody tr th:only-of-type {\n",
       "        vertical-align: middle;\n",
       "    }\n",
       "\n",
       "    .dataframe tbody tr th {\n",
       "        vertical-align: top;\n",
       "    }\n",
       "\n",
       "    .dataframe thead th {\n",
       "        text-align: right;\n",
       "    }\n",
       "</style>\n",
       "<table border=\"1\" class=\"dataframe\">\n",
       "  <thead>\n",
       "    <tr style=\"text-align: right;\">\n",
       "      <th></th>\n",
       "      <th>line_name</th>\n",
       "      <th>description</th>\n",
       "      <th>tm2_mode</th>\n",
       "      <th>line_mode</th>\n",
       "      <th>headway</th>\n",
       "      <th>fare_system</th>\n",
       "      <th>total_boarding</th>\n",
       "      <th>total_hour_cap</th>\n",
       "    </tr>\n",
       "  </thead>\n",
       "  <tbody>\n",
       "    <tr>\n",
       "      <th>0</th>\n",
       "      <td>10_573_198_AM_d0_s493</td>\n",
       "      <td>Hollis</td>\n",
       "      <td>12.0</td>\n",
       "      <td>o</td>\n",
       "      <td>80.0</td>\n",
       "      <td>18.0</td>\n",
       "      <td>0.0</td>\n",
       "      <td>33.750000</td>\n",
       "    </tr>\n",
       "    <tr>\n",
       "      <th>1</th>\n",
       "      <td>10_573_199_AM_d0_s492</td>\n",
       "      <td>Hollis North</td>\n",
       "      <td>12.0</td>\n",
       "      <td>o</td>\n",
       "      <td>13.0</td>\n",
       "      <td>18.0</td>\n",
       "      <td>0.0</td>\n",
       "      <td>207.692308</td>\n",
       "    </tr>\n",
       "    <tr>\n",
       "      <th>2</th>\n",
       "      <td>10_573_200_AM_d0_s498</td>\n",
       "      <td>Hollis South</td>\n",
       "      <td>12.0</td>\n",
       "      <td>o</td>\n",
       "      <td>13.0</td>\n",
       "      <td>18.0</td>\n",
       "      <td>0.0</td>\n",
       "      <td>207.692308</td>\n",
       "    </tr>\n",
       "    <tr>\n",
       "      <th>3</th>\n",
       "      <td>10_573_201_AM_d0_s490</td>\n",
       "      <td>Shellmound/Powell</td>\n",
       "      <td>12.0</td>\n",
       "      <td>o</td>\n",
       "      <td>80.0</td>\n",
       "      <td>18.0</td>\n",
       "      <td>0.0</td>\n",
       "      <td>33.750000</td>\n",
       "    </tr>\n",
       "    <tr>\n",
       "      <th>4</th>\n",
       "      <td>10_573_202_AM_d0_s494</td>\n",
       "      <td>South Shellmound/Powell</td>\n",
       "      <td>12.0</td>\n",
       "      <td>o</td>\n",
       "      <td>14.0</td>\n",
       "      <td>18.0</td>\n",
       "      <td>0.0</td>\n",
       "      <td>192.857143</td>\n",
       "    </tr>\n",
       "  </tbody>\n",
       "</table>\n",
       "</div>"
      ],
      "text/plain": [
       "               line_name              description  tm2_mode line_mode  \\\n",
       "0  10_573_198_AM_d0_s493                   Hollis      12.0         o   \n",
       "1  10_573_199_AM_d0_s492             Hollis North      12.0         o   \n",
       "2  10_573_200_AM_d0_s498             Hollis South      12.0         o   \n",
       "3  10_573_201_AM_d0_s490        Shellmound/Powell      12.0         o   \n",
       "4  10_573_202_AM_d0_s494  South Shellmound/Powell      12.0         o   \n",
       "\n",
       "   headway  fare_system  total_boarding  total_hour_cap  \n",
       "0     80.0         18.0             0.0       33.750000  \n",
       "1     13.0         18.0             0.0      207.692308  \n",
       "2     13.0         18.0             0.0      207.692308  \n",
       "3     80.0         18.0             0.0       33.750000  \n",
       "4     14.0         18.0             0.0      192.857143  "
      ]
     },
     "execution_count": 17,
     "metadata": {},
     "output_type": "execute_result"
    }
   ],
   "source": [
    "output_df = running_df.groupby([\"line_name\", \"description\", \"tm2_mode\", \"line_mode\", \"headway\", \"fare_system\"]).agg({\"total_boarding\": \"sum\", \"total_hour_cap\": \"max\"}).reset_index()\n",
    "output_df.head()"
   ]
  },
  {
   "cell_type": "code",
   "execution_count": 18,
   "metadata": {},
   "outputs": [],
   "source": [
    "output_df.to_csv(dir + \"boardings_by_line_am.csv\", index=False)"
   ]
  },
  {
   "cell_type": "code",
   "execution_count": null,
   "metadata": {},
   "outputs": [],
   "source": []
  }
 ],
 "metadata": {
  "kernelspec": {
   "display_name": "tm2py",
   "language": "python",
   "name": "python3"
  },
  "language_info": {
   "codemirror_mode": {
    "name": "ipython",
    "version": 3
   },
   "file_extension": ".py",
   "mimetype": "text/x-python",
   "name": "python",
   "nbconvert_exporter": "python",
   "pygments_lexer": "ipython3",
   "version": "3.7.10"
  }
 },
 "nbformat": 4,
 "nbformat_minor": 2
}
