{
 "cells": [
  {
   "cell_type": "markdown",
   "id": "019c3621",
   "metadata": {},
   "source": [
    "### Essential run model Notebook example\n",
    "\n",
    "This is pretty much covered in the run.md file, not sure if it makes sense to translate to ipynb."
   ]
  },
  {
   "cell_type": "code",
   "execution_count": null,
   "id": "d2c4c824",
   "metadata": {},
   "outputs": [],
   "source": []
  },
  {
   "cell_type": "code",
   "execution_count": null,
   "id": "fa3b6717",
   "metadata": {},
   "outputs": [],
   "source": []
  }
 ],
 "metadata": {
  "kernelspec": {
   "display_name": "Python 3 (ipykernel)",
   "language": "python",
   "name": "python3"
  },
  "language_info": {
   "codemirror_mode": {
    "name": "ipython",
    "version": 3
   },
   "file_extension": ".py",
   "mimetype": "text/x-python",
   "name": "python",
   "nbconvert_exporter": "python",
   "pygments_lexer": "ipython3",
   "version": "3.7.6"
  }
 },
 "nbformat": 4,
 "nbformat_minor": 5
}
