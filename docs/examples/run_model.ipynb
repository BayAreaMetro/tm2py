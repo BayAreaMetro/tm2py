{
 "cells": [
  {
   "cell_type": "markdown",
   "id": "019c3621",
   "metadata": {},
   "source": [
    "### Essential run model Notebook example\n",
    "\n",
    "Import the RunController from tm2py root, and provide as inputs:\n",
    "- a list of config files in .toml format, which describe the model settings; by convention this is split into a \"scenario_config.toml\" with a few run / operational parameters, and a \"model_config.toml\" with most of the model details\n",
    "- the run directory (if not specified this is the directory of the first config file provided)"
   ]
  },
  {
   "cell_type": "code",
   "execution_count": 1,
   "id": "fa3b6717",
   "metadata": {},
   "outputs": [],
   "source": [
    "import os\n",
    "from tm2py import RunController\n",
    "\n",
    "controller = RunController(\n",
    "    [\n",
    "        os.path.join(\"..\", \"examples\", \"scenario_config.toml\"),\n",
    "        os.path.join(\"..\", \"examples\", \"model_config.toml\"),\n",
    "    ],\n",
    "    run_dir=os.path.join(\"..\", \"examples\", \"UnionCity\"),\n",
    ")"
   ]
  },
  {
   "cell_type": "markdown",
   "id": "01fa65c1",
   "metadata": {},
   "source": [
    "The example scenario data can be downloaded:"
   ]
  },
  {
   "cell_type": "code",
   "execution_count": 3,
   "id": "07cc2621",
   "metadata": {},
   "outputs": [
    {
     "data": {
      "text/plain": [
       "'..\\\\examples\\\\UnionCity'"
      ]
     },
     "execution_count": 3,
     "metadata": {},
     "output_type": "execute_result"
    }
   ],
   "source": [
    "from tm2py import get_example\n",
    "\n",
    "get_example(root_dir=os.path.join(\"..\", \"\"))"
   ]
  },
  {
   "cell_type": "markdown",
   "id": "863bea38",
   "metadata": {},
   "source": [
    "Run the model via controller.run():"
   ]
  },
  {
   "cell_type": "code",
   "execution_count": 4,
   "id": "24438d17",
   "metadata": {
    "scrolled": false
   },
   "outputs": [
    {
     "name": "stdout",
     "output_type": "stream",
     "text": [
      "26-Apr-2022 (14:13:30): Start iteration 0\n",
      "26-Apr-2022 (14:13:30): Start prepare network attributes and modes\n",
      "26-Apr-2022 (14:13:37): End prepare network attributes and modes\n",
      "26-Apr-2022 (14:13:37): Start Highway assignment and skims\n",
      "26-Apr-2022 (14:13:37):   Start Highway assignment for period ea\n",
      "26-Apr-2022 (14:13:37):     Set ul1 to 0 for background traffic\n",
      "26-Apr-2022 (14:13:37):     Start Creating skim matrices\n",
      "26-Apr-2022 (14:13:37):     End Creating skim matrices\n",
      "26-Apr-2022 (14:13:37):     Start Run SOLA assignment with path analyses\n",
      "26-Apr-2022 (14:13:38):     End Run SOLA assignment with path analyses\n",
      "26-Apr-2022 (14:13:38):   End Highway assignment for period ea\n",
      "26-Apr-2022 (14:13:38):   Start Highway assignment for period am\n",
      "26-Apr-2022 (14:13:38):     Set ul1 to 0 for background traffic\n",
      "26-Apr-2022 (14:13:38):     Start Creating skim matrices\n",
      "26-Apr-2022 (14:13:38):     End Creating skim matrices\n",
      "26-Apr-2022 (14:13:38):     Start Run SOLA assignment with path analyses\n",
      "26-Apr-2022 (14:13:39):     End Run SOLA assignment with path analyses\n",
      "26-Apr-2022 (14:13:39):   End Highway assignment for period am\n",
      "26-Apr-2022 (14:13:39):   Start Highway assignment for period md\n",
      "26-Apr-2022 (14:13:39):     Set ul1 to 0 for background traffic\n",
      "26-Apr-2022 (14:13:39):     Start Creating skim matrices\n",
      "26-Apr-2022 (14:13:39):     End Creating skim matrices\n",
      "26-Apr-2022 (14:13:39):     Start Run SOLA assignment with path analyses\n",
      "26-Apr-2022 (14:13:40):     End Run SOLA assignment with path analyses\n",
      "26-Apr-2022 (14:13:40):   End Highway assignment for period md\n",
      "26-Apr-2022 (14:13:40):   Start Highway assignment for period pm\n",
      "26-Apr-2022 (14:13:40):     Set ul1 to 0 for background traffic\n",
      "26-Apr-2022 (14:13:40):     Start Creating skim matrices\n",
      "26-Apr-2022 (14:13:40):     End Creating skim matrices\n",
      "26-Apr-2022 (14:13:40):     Start Run SOLA assignment with path analyses\n",
      "26-Apr-2022 (14:13:40):     End Run SOLA assignment with path analyses\n",
      "26-Apr-2022 (14:13:41):   End Highway assignment for period pm\n",
      "26-Apr-2022 (14:13:41):   Start Highway assignment for period ev\n",
      "26-Apr-2022 (14:13:41):     Set ul1 to 0 for background traffic\n",
      "26-Apr-2022 (14:13:41):     Start Creating skim matrices\n",
      "26-Apr-2022 (14:13:41):     End Creating skim matrices\n",
      "26-Apr-2022 (14:13:41):     Start Run SOLA assignment with path analyses\n",
      "26-Apr-2022 (14:13:41):     End Run SOLA assignment with path analyses\n",
      "26-Apr-2022 (14:13:41):   End Highway assignment for period ev\n",
      "26-Apr-2022 (14:13:41): End Highway assignment and skims\n",
      "26-Apr-2022 (14:13:41): Start SkimMAZCosts run\n",
      "26-Apr-2022 (14:13:41):   Start SkimMAZCosts _prepare_network\n",
      "26-Apr-2022 (14:13:41):   End SkimMAZCosts _prepare_network\n",
      "26-Apr-2022 (14:13:42): End SkimMAZCosts run\n"
     ]
    }
   ],
   "source": [
    "controller.run()"
   ]
  },
  {
   "cell_type": "code",
   "execution_count": null,
   "id": "7fe4d281",
   "metadata": {},
   "outputs": [],
   "source": []
  }
 ],
 "metadata": {
  "kernelspec": {
   "display_name": "Python 3 (ipykernel)",
   "language": "python",
   "name": "python3"
  },
  "language_info": {
   "codemirror_mode": {
    "name": "ipython",
    "version": 3
   },
   "file_extension": ".py",
   "mimetype": "text/x-python",
   "name": "python",
   "nbconvert_exporter": "python",
   "pygments_lexer": "ipython3",
   "version": "3.7.6"
  }
 },
 "nbformat": 4,
 "nbformat_minor": 5
}
